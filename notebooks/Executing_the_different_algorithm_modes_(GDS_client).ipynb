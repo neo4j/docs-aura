{
  "cells": [
    {
      "cell_type": "markdown",
      "metadata": {
        "id": "Ob_B5UkSBsPc"
      },
      "source": [
        "# Setup"
      ]
    },
    {
      "cell_type": "code",
      "execution_count": null,
      "metadata": {
        "id": "GWqXklEtrvj8"
      },
      "outputs": [],
      "source": [
        "%pip install graphdatascience"
      ]
    },
    {
      "cell_type": "code",
      "execution_count": null,
      "metadata": {
        "id": "1wL4q7-ys775"
      },
      "outputs": [],
      "source": [
        "# Import the client\n",
        "from graphdatascience import GraphDataScience\n",
        "\n",
        "# Replace with the actual URI, username, and password\n",
        "AURA_CONNECTION_URI = \"neo4j+s://xxxxxxxx.databases.neo4j.io\"\n",
        "AURA_USERNAME = \"neo4j\"\n",
        "AURA_PASSWORD = \"\"\n",
        "\n",
        "# Configure the client with AuraDS-recommended settings\n",
        "gds = GraphDataScience(\n",
        "    AURA_CONNECTION_URI,\n",
        "    auth=(AURA_USERNAME, AURA_PASSWORD),\n",
        "    aura_ds=True\n",
        ")"
      ]
    },
    {
      "cell_type": "code",
      "execution_count": null,
      "metadata": {
        "colab": {
          "base_uri": "https://localhost:8080/",
          "height": 49
        },
        "id": "D0vUwc8ZtSAI",
        "outputId": "320376f5-ff29-4c48-d186-4ff54569cd8e"
      },
      "outputs": [
        {
          "data": {
            "text/html": [
              "\n",
              "  <div id=\"df-4afc604f-a134-44d3-816a-bd08600717cc\">\n",
              "    <div class=\"colab-df-container\">\n",
              "      <div>\n",
              "<style scoped>\n",
              "    .dataframe tbody tr th:only-of-type {\n",
              "        vertical-align: middle;\n",
              "    }\n",
              "\n",
              "    .dataframe tbody tr th {\n",
              "        vertical-align: top;\n",
              "    }\n",
              "\n",
              "    .dataframe thead th {\n",
              "        text-align: right;\n",
              "    }\n",
              "</style>\n",
              "<table border=\"1\" class=\"dataframe\">\n",
              "  <thead>\n",
              "    <tr style=\"text-align: right;\">\n",
              "      <th></th>\n",
              "    </tr>\n",
              "  </thead>\n",
              "  <tbody>\n",
              "  </tbody>\n",
              "</table>\n",
              "</div>\n",
              "      <button class=\"colab-df-convert\" onclick=\"convertToInteractive('df-4afc604f-a134-44d3-816a-bd08600717cc')\"\n",
              "              title=\"Convert this dataframe to an interactive table.\"\n",
              "              style=\"display:none;\">\n",
              "        \n",
              "  <svg xmlns=\"http://www.w3.org/2000/svg\" height=\"24px\"viewBox=\"0 0 24 24\"\n",
              "       width=\"24px\">\n",
              "    <path d=\"M0 0h24v24H0V0z\" fill=\"none\"/>\n",
              "    <path d=\"M18.56 5.44l.94 2.06.94-2.06 2.06-.94-2.06-.94-.94-2.06-.94 2.06-2.06.94zm-11 1L8.5 8.5l.94-2.06 2.06-.94-2.06-.94L8.5 2.5l-.94 2.06-2.06.94zm10 10l.94 2.06.94-2.06 2.06-.94-2.06-.94-.94-2.06-.94 2.06-2.06.94z\"/><path d=\"M17.41 7.96l-1.37-1.37c-.4-.4-.92-.59-1.43-.59-.52 0-1.04.2-1.43.59L10.3 9.45l-7.72 7.72c-.78.78-.78 2.05 0 2.83L4 21.41c.39.39.9.59 1.41.59.51 0 1.02-.2 1.41-.59l7.78-7.78 2.81-2.81c.8-.78.8-2.07 0-2.86zM5.41 20L4 18.59l7.72-7.72 1.47 1.35L5.41 20z\"/>\n",
              "  </svg>\n",
              "      </button>\n",
              "      \n",
              "  <style>\n",
              "    .colab-df-container {\n",
              "      display:flex;\n",
              "      flex-wrap:wrap;\n",
              "      gap: 12px;\n",
              "    }\n",
              "\n",
              "    .colab-df-convert {\n",
              "      background-color: #E8F0FE;\n",
              "      border: none;\n",
              "      border-radius: 50%;\n",
              "      cursor: pointer;\n",
              "      display: none;\n",
              "      fill: #1967D2;\n",
              "      height: 32px;\n",
              "      padding: 0 0 0 0;\n",
              "      width: 32px;\n",
              "    }\n",
              "\n",
              "    .colab-df-convert:hover {\n",
              "      background-color: #E2EBFA;\n",
              "      box-shadow: 0px 1px 2px rgba(60, 64, 67, 0.3), 0px 1px 3px 1px rgba(60, 64, 67, 0.15);\n",
              "      fill: #174EA6;\n",
              "    }\n",
              "\n",
              "    [theme=dark] .colab-df-convert {\n",
              "      background-color: #3B4455;\n",
              "      fill: #D2E3FC;\n",
              "    }\n",
              "\n",
              "    [theme=dark] .colab-df-convert:hover {\n",
              "      background-color: #434B5C;\n",
              "      box-shadow: 0px 1px 3px 1px rgba(0, 0, 0, 0.15);\n",
              "      filter: drop-shadow(0px 1px 2px rgba(0, 0, 0, 0.3));\n",
              "      fill: #FFFFFF;\n",
              "    }\n",
              "  </style>\n",
              "\n",
              "      <script>\n",
              "        const buttonEl =\n",
              "          document.querySelector('#df-4afc604f-a134-44d3-816a-bd08600717cc button.colab-df-convert');\n",
              "        buttonEl.style.display =\n",
              "          google.colab.kernel.accessAllowed ? 'block' : 'none';\n",
              "\n",
              "        async function convertToInteractive(key) {\n",
              "          const element = document.querySelector('#df-4afc604f-a134-44d3-816a-bd08600717cc');\n",
              "          const dataTable =\n",
              "            await google.colab.kernel.invokeFunction('convertToInteractive',\n",
              "                                                     [key], {});\n",
              "          if (!dataTable) return;\n",
              "\n",
              "          const docLinkHtml = 'Like what you see? Visit the ' +\n",
              "            '<a target=\"_blank\" href=https://colab.research.google.com/notebooks/data_table.ipynb>data table notebook</a>'\n",
              "            + ' to learn more about interactive tables.';\n",
              "          element.innerHTML = '';\n",
              "          dataTable['output_type'] = 'display_data';\n",
              "          await google.colab.output.renderOutput(dataTable, element);\n",
              "          const docLink = document.createElement('div');\n",
              "          docLink.innerHTML = docLinkHtml;\n",
              "          element.appendChild(docLink);\n",
              "        }\n",
              "      </script>\n",
              "    </div>\n",
              "  </div>\n",
              "  "
            ],
            "text/plain": [
              "Empty DataFrame\n",
              "Columns: []\n",
              "Index: []"
            ]
          },
          "execution_count": 11,
          "metadata": {},
          "output_type": "execute_result"
        }
      ],
      "source": [
        "gds.run_cypher(\"\"\"\n",
        "    CREATE\n",
        "      (home:Page {name:'Home'}),\n",
        "      (about:Page {name:'About'}),\n",
        "      (product:Page {name:'Product'}),\n",
        "      (links:Page {name:'Links'}),\n",
        "      (a:Page {name:'Site A'}),\n",
        "      (b:Page {name:'Site B'}),\n",
        "      (c:Page {name:'Site C'}),\n",
        "      (d:Page {name:'Site D'}),\n",
        "\n",
        "      (home)-[:LINKS {weight: 0.2}]->(about),\n",
        "      (home)-[:LINKS {weight: 0.2}]->(links),\n",
        "      (home)-[:LINKS {weight: 0.6}]->(product),\n",
        "      (about)-[:LINKS {weight: 1.0}]->(home),\n",
        "      (product)-[:LINKS {weight: 1.0}]->(home),\n",
        "      (a)-[:LINKS {weight: 1.0}]->(home),\n",
        "      (b)-[:LINKS {weight: 1.0}]->(home),\n",
        "      (c)-[:LINKS {weight: 1.0}]->(home),\n",
        "      (d)-[:LINKS {weight: 1.0}]->(home),\n",
        "      (links)-[:LINKS {weight: 0.8}]->(home),\n",
        "      (links)-[:LINKS {weight: 0.05}]->(a),\n",
        "      (links)-[:LINKS {weight: 0.05}]->(b),\n",
        "      (links)-[:LINKS {weight: 0.05}]->(c),\n",
        "      (links)-[:LINKS {weight: 0.05}]->(d)\n",
        "\"\"\")"
      ]
    },
    {
      "cell_type": "code",
      "execution_count": null,
      "metadata": {
        "colab": {
          "base_uri": "https://localhost:8080/"
        },
        "id": "Sl52_re8tX8t",
        "outputId": "dff9732a-25e6-4cd4-c457-48bd880edcbb"
      },
      "outputs": [
        {
          "name": "stdout",
          "output_type": "stream",
          "text": [
            "nodeProjection                {'Page': {'label': 'Page', 'properties': {}}}\n",
            "relationshipProjection    {'LINKS': {'orientation': 'NATURAL', 'aggregat...\n",
            "graphName                                                     example-graph\n",
            "nodeCount                                                                 8\n",
            "relationshipCount                                                        14\n",
            "projectMillis                                                             5\n",
            "Name: 0, dtype: object\n"
          ]
        }
      ],
      "source": [
        "g, result = gds.graph.project(\n",
        "    \"example-graph\",\n",
        "    \"Page\",\n",
        "    \"LINKS\",\n",
        "    relationshipProperties=\"weight\"\n",
        ")\n",
        "\n",
        "print(result)"
      ]
    },
    {
      "cell_type": "markdown",
      "metadata": {
        "id": "LE-eXAtABioG"
      },
      "source": [
        "# Execution modes"
      ]
    },
    {
      "cell_type": "markdown",
      "metadata": {
        "id": "1z26DQNpBkvO"
      },
      "source": [
        "## Stats mode"
      ]
    },
    {
      "cell_type": "code",
      "execution_count": null,
      "metadata": {
        "colab": {
          "base_uri": "https://localhost:8080/"
        },
        "id": "dx8Qlf4ctsYK",
        "outputId": "02695112-7324-4161-9117-5bf28a5853df"
      },
      "outputs": [
        {
          "name": "stdout",
          "output_type": "stream",
          "text": [
            "ranIterations                                                            20\n",
            "didConverge                                                           False\n",
            "centralityDistribution    {'p99': 3.2156810760498047, 'min': 0.327856063...\n",
            "postProcessingMillis                                                     12\n",
            "preProcessingMillis                                                       0\n",
            "computeMillis                                                            28\n",
            "configuration             {'maxIterations': 20, 'sourceNodes': [], 'scal...\n",
            "Name: 0, dtype: object\n"
          ]
        }
      ],
      "source": [
        "result = gds.pageRank.stats(\n",
        "    g,\n",
        "    maxIterations=20,\n",
        "    dampingFactor=0.85\n",
        ")\n",
        "\n",
        "print(result)"
      ]
    },
    {
      "cell_type": "markdown",
      "metadata": {
        "id": "-v6PWeojBmeG"
      },
      "source": [
        "## Stream mode"
      ]
    },
    {
      "cell_type": "code",
      "execution_count": null,
      "metadata": {
        "colab": {
          "base_uri": "https://localhost:8080/"
        },
        "id": "gYdiC5yytuwa",
        "outputId": "3e03cb67-2e94-48cf-b056-66119c2fe232"
      },
      "outputs": [
        {
          "name": "stdout",
          "output_type": "stream",
          "text": [
            "   nodeId     score\n",
            "0       0  3.215682\n",
            "1       1  1.054270\n",
            "2       2  1.054270\n",
            "3       3  1.054270\n",
            "4       4  0.327858\n",
            "5       5  0.327858\n",
            "6       6  0.327858\n",
            "7       7  0.327858\n"
          ]
        }
      ],
      "source": [
        "results = gds.pageRank.stream(\n",
        "    g,\n",
        "    maxIterations=20,\n",
        "    dampingFactor=0.85\n",
        ")\n",
        "\n",
        "print(results)"
      ]
    },
    {
      "cell_type": "markdown",
      "metadata": {
        "id": "xLuG4xQmBna1"
      },
      "source": [
        "## Mutate mode"
      ]
    },
    {
      "cell_type": "code",
      "execution_count": null,
      "metadata": {
        "colab": {
          "base_uri": "https://localhost:8080/"
        },
        "id": "7vigjgCwtxxG",
        "outputId": "cb3795b1-f561-457d-c29c-c9c02f656dc0"
      },
      "outputs": [
        {
          "name": "stdout",
          "output_type": "stream",
          "text": [
            "mutateMillis                                                              1\n",
            "nodePropertiesWritten                                                     8\n",
            "ranIterations                                                            20\n",
            "didConverge                                                           False\n",
            "centralityDistribution    {'p99': 3.2156810760498047, 'min': 0.327856063...\n",
            "postProcessingMillis                                                     16\n",
            "preProcessingMillis                                                       0\n",
            "computeMillis                                                            26\n",
            "configuration             {'maxIterations': 20, 'sourceNodes': [], 'scal...\n",
            "Name: 0, dtype: object\n"
          ]
        }
      ],
      "source": [
        "result = gds.pageRank.mutate(\n",
        "    g,\n",
        "    mutateProperty=\"pageRankScore\",\n",
        "    maxIterations=20,\n",
        "    dampingFactor=0.85\n",
        ")\n",
        "\n",
        "print(result)"
      ]
    },
    {
      "cell_type": "markdown",
      "metadata": {
        "id": "G-L-90-mBpCA"
      },
      "source": [
        "## Write mode"
      ]
    },
    {
      "cell_type": "code",
      "execution_count": null,
      "metadata": {
        "colab": {
          "base_uri": "https://localhost:8080/"
        },
        "id": "U9bnYtmrt2Ri",
        "outputId": "5100bf5d-11f1-49af-91eb-ef0f5e78ff1e"
      },
      "outputs": [
        {
          "name": "stdout",
          "output_type": "stream",
          "text": [
            "writeMillis                                                               9\n",
            "nodePropertiesWritten                                                     8\n",
            "ranIterations                                                            20\n",
            "didConverge                                                           False\n",
            "centralityDistribution    {'p99': 3.2156810760498047, 'min': 0.327856063...\n",
            "postProcessingMillis                                                     12\n",
            "preProcessingMillis                                                       0\n",
            "computeMillis                                                            26\n",
            "configuration             {'maxIterations': 20, 'writeConcurrency': 4, '...\n",
            "Name: 0, dtype: object\n"
          ]
        }
      ],
      "source": [
        "result = gds.pageRank.write(\n",
        "    g,\n",
        "    writeProperty=\"pageRankScore\",\n",
        "    maxIterations=20,\n",
        "    dampingFactor=0.85\n",
        ")\n",
        "\n",
        "print(result)"
      ]
    },
    {
      "cell_type": "markdown",
      "metadata": {
        "id": "uR5HAyDJBqX8"
      },
      "source": [
        "# Cleanup"
      ]
    },
    {
      "cell_type": "code",
      "execution_count": null,
      "metadata": {
        "colab": {
          "base_uri": "https://localhost:8080/",
          "height": 269
        },
        "id": "Oww8yiAKuMuL",
        "outputId": "6926e2b7-1b19-42d7-a7e2-4ab5b557f6fd"
      },
      "outputs": [
        {
          "name": "stdout",
          "output_type": "stream",
          "text": [
            "graphName                                                example-graph\n",
            "database                                                         neo4j\n",
            "memoryUsage                                                           \n",
            "sizeInBytes                                                         -1\n",
            "nodeCount                                                            8\n",
            "relationshipCount                                                   14\n",
            "configuration                                                       {}\n",
            "density                                                           0.25\n",
            "creationTime                       2022-03-29T13:59:06.598241000+00:00\n",
            "modificationTime                   2022-03-29T14:01:18.194290000+00:00\n",
            "schema               {'relationships': {'LINKS': {'weight': 'Float ...\n",
            "Name: 0, dtype: object\n"
          ]
        },
        {
          "data": {
            "text/html": [
              "\n",
              "  <div id=\"df-adf33b5c-358a-4b96-b049-d8491a8fbbff\">\n",
              "    <div class=\"colab-df-container\">\n",
              "      <div>\n",
              "<style scoped>\n",
              "    .dataframe tbody tr th:only-of-type {\n",
              "        vertical-align: middle;\n",
              "    }\n",
              "\n",
              "    .dataframe tbody tr th {\n",
              "        vertical-align: top;\n",
              "    }\n",
              "\n",
              "    .dataframe thead th {\n",
              "        text-align: right;\n",
              "    }\n",
              "</style>\n",
              "<table border=\"1\" class=\"dataframe\">\n",
              "  <thead>\n",
              "    <tr style=\"text-align: right;\">\n",
              "      <th></th>\n",
              "    </tr>\n",
              "  </thead>\n",
              "  <tbody>\n",
              "  </tbody>\n",
              "</table>\n",
              "</div>\n",
              "      <button class=\"colab-df-convert\" onclick=\"convertToInteractive('df-adf33b5c-358a-4b96-b049-d8491a8fbbff')\"\n",
              "              title=\"Convert this dataframe to an interactive table.\"\n",
              "              style=\"display:none;\">\n",
              "        \n",
              "  <svg xmlns=\"http://www.w3.org/2000/svg\" height=\"24px\"viewBox=\"0 0 24 24\"\n",
              "       width=\"24px\">\n",
              "    <path d=\"M0 0h24v24H0V0z\" fill=\"none\"/>\n",
              "    <path d=\"M18.56 5.44l.94 2.06.94-2.06 2.06-.94-2.06-.94-.94-2.06-.94 2.06-2.06.94zm-11 1L8.5 8.5l.94-2.06 2.06-.94-2.06-.94L8.5 2.5l-.94 2.06-2.06.94zm10 10l.94 2.06.94-2.06 2.06-.94-2.06-.94-.94-2.06-.94 2.06-2.06.94z\"/><path d=\"M17.41 7.96l-1.37-1.37c-.4-.4-.92-.59-1.43-.59-.52 0-1.04.2-1.43.59L10.3 9.45l-7.72 7.72c-.78.78-.78 2.05 0 2.83L4 21.41c.39.39.9.59 1.41.59.51 0 1.02-.2 1.41-.59l7.78-7.78 2.81-2.81c.8-.78.8-2.07 0-2.86zM5.41 20L4 18.59l7.72-7.72 1.47 1.35L5.41 20z\"/>\n",
              "  </svg>\n",
              "      </button>\n",
              "      \n",
              "  <style>\n",
              "    .colab-df-container {\n",
              "      display:flex;\n",
              "      flex-wrap:wrap;\n",
              "      gap: 12px;\n",
              "    }\n",
              "\n",
              "    .colab-df-convert {\n",
              "      background-color: #E8F0FE;\n",
              "      border: none;\n",
              "      border-radius: 50%;\n",
              "      cursor: pointer;\n",
              "      display: none;\n",
              "      fill: #1967D2;\n",
              "      height: 32px;\n",
              "      padding: 0 0 0 0;\n",
              "      width: 32px;\n",
              "    }\n",
              "\n",
              "    .colab-df-convert:hover {\n",
              "      background-color: #E2EBFA;\n",
              "      box-shadow: 0px 1px 2px rgba(60, 64, 67, 0.3), 0px 1px 3px 1px rgba(60, 64, 67, 0.15);\n",
              "      fill: #174EA6;\n",
              "    }\n",
              "\n",
              "    [theme=dark] .colab-df-convert {\n",
              "      background-color: #3B4455;\n",
              "      fill: #D2E3FC;\n",
              "    }\n",
              "\n",
              "    [theme=dark] .colab-df-convert:hover {\n",
              "      background-color: #434B5C;\n",
              "      box-shadow: 0px 1px 3px 1px rgba(0, 0, 0, 0.15);\n",
              "      filter: drop-shadow(0px 1px 2px rgba(0, 0, 0, 0.3));\n",
              "      fill: #FFFFFF;\n",
              "    }\n",
              "  </style>\n",
              "\n",
              "      <script>\n",
              "        const buttonEl =\n",
              "          document.querySelector('#df-adf33b5c-358a-4b96-b049-d8491a8fbbff button.colab-df-convert');\n",
              "        buttonEl.style.display =\n",
              "          google.colab.kernel.accessAllowed ? 'block' : 'none';\n",
              "\n",
              "        async function convertToInteractive(key) {\n",
              "          const element = document.querySelector('#df-adf33b5c-358a-4b96-b049-d8491a8fbbff');\n",
              "          const dataTable =\n",
              "            await google.colab.kernel.invokeFunction('convertToInteractive',\n",
              "                                                     [key], {});\n",
              "          if (!dataTable) return;\n",
              "\n",
              "          const docLinkHtml = 'Like what you see? Visit the ' +\n",
              "            '<a target=\"_blank\" href=https://colab.research.google.com/notebooks/data_table.ipynb>data table notebook</a>'\n",
              "            + ' to learn more about interactive tables.';\n",
              "          element.innerHTML = '';\n",
              "          dataTable['output_type'] = 'display_data';\n",
              "          await google.colab.output.renderOutput(dataTable, element);\n",
              "          const docLink = document.createElement('div');\n",
              "          docLink.innerHTML = docLinkHtml;\n",
              "          element.appendChild(docLink);\n",
              "        }\n",
              "      </script>\n",
              "    </div>\n",
              "  </div>\n",
              "  "
            ],
            "text/plain": [
              "Empty DataFrame\n",
              "Columns: []\n",
              "Index: []"
            ]
          },
          "execution_count": 9,
          "metadata": {},
          "output_type": "execute_result"
        }
      ],
      "source": [
        "result = gds.graph.drop(g)\n",
        "print(result)\n",
        "\n",
        "gds.run_cypher(\"\"\"\n",
        "    MATCH (n)\n",
        "    DETACH DELETE n\n",
        "\"\"\")"
      ]
    }
  ],
  "metadata": {
    "colab": {
      "provenance": []
    },
    "kernelspec": {
      "display_name": "Python 3",
      "name": "python3"
    },
    "language_info": {
      "name": "python"
    }
  },
  "nbformat": 4,
  "nbformat_minor": 0
}

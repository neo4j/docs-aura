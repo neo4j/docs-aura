{
 "cells": [
  {
   "attachments": {},
   "cell_type": "markdown",
   "id": "23320879",
   "metadata": {},
   "source": [
    "# Arrow example"
   ]
  },
  {
   "cell_type": "code",
   "execution_count": null,
   "id": "10af7de1",
   "metadata": {},
   "outputs": [],
   "source": [
    "%pip install 'graphdatascience[ogb]==1.7a1'"
   ]
  },
  {
   "cell_type": "code",
   "execution_count": 21,
   "id": "3b4202f7",
   "metadata": {},
   "outputs": [],
   "source": [
    "from graphdatascience import GraphDataScience"
   ]
  },
  {
   "cell_type": "code",
   "execution_count": 22,
   "id": "960d8c09",
   "metadata": {},
   "outputs": [],
   "source": [
    "# Replace with the actual connection URI and credentials\n",
    "NEO4J_CONNECTION_URI = \"neo4j+s://xxxxxxxx.databases.neo4j.io\"\n",
    "NEO4J_USERNAME = \"neo4j\"\n",
    "NEO4J_PASSWORD = \"\"\n",
    "\n",
    "gds = GraphDataScience(NEO4J_CONNECTION_URI, auth=(NEO4J_USERNAME, NEO4J_PASSWORD), aura_ds=True)"
   ]
  },
  {
   "cell_type": "code",
   "execution_count": 23,
   "id": "859c8d45",
   "metadata": {},
   "outputs": [],
   "source": [
    "# Necessary if Arrow is enabled (as is by default)\n",
    "\n",
    "gds.set_database(\"neo4j\")"
   ]
  },
  {
   "cell_type": "code",
   "execution_count": 24,
   "id": "e8b4c7ab",
   "metadata": {},
   "outputs": [
    {
     "data": {
      "text/html": [
       "<div>\n",
       "<style scoped>\n",
       "    .dataframe tbody tr th:only-of-type {\n",
       "        vertical-align: middle;\n",
       "    }\n",
       "\n",
       "    .dataframe tbody tr th {\n",
       "        vertical-align: top;\n",
       "    }\n",
       "\n",
       "    .dataframe thead th {\n",
       "        text-align: right;\n",
       "    }\n",
       "</style>\n",
       "<table border=\"1\" class=\"dataframe\">\n",
       "  <thead>\n",
       "    <tr style=\"text-align: right;\">\n",
       "      <th></th>\n",
       "      <th>running</th>\n",
       "      <th>enabled</th>\n",
       "      <th>listenAddress</th>\n",
       "      <th>advertisedListenAddress</th>\n",
       "      <th>serverLocation</th>\n",
       "      <th>batchSize</th>\n",
       "      <th>abortionTimeout</th>\n",
       "    </tr>\n",
       "  </thead>\n",
       "  <tbody>\n",
       "    <tr>\n",
       "      <th>0</th>\n",
       "      <td>True</td>\n",
       "      <td>True</td>\n",
       "      <td>bc3afd4c.databases.neo4j.io:8491</td>\n",
       "      <td>bc3afd4c.databases.neo4j.io:8491</td>\n",
       "      <td>None</td>\n",
       "      <td>10000</td>\n",
       "      <td>(0, 0, 600, 0)</td>\n",
       "    </tr>\n",
       "  </tbody>\n",
       "</table>\n",
       "</div>"
      ],
      "text/plain": [
       "   running  enabled                     listenAddress  \\\n",
       "0     True     True  bc3afd4c.databases.neo4j.io:8491   \n",
       "\n",
       "            advertisedListenAddress serverLocation  batchSize abortionTimeout  \n",
       "0  bc3afd4c.databases.neo4j.io:8491           None      10000  (0, 0, 600, 0)  "
      ]
     },
     "execution_count": 24,
     "metadata": {},
     "output_type": "execute_result"
    }
   ],
   "source": [
    "# To check that Arrow is installed and enabled\n",
    "\n",
    "gds.run_cypher(\"CALL gds.debug.arrow()\")"
   ]
  },
  {
   "cell_type": "code",
   "execution_count": null,
   "id": "fa39fdab",
   "metadata": {},
   "outputs": [],
   "source": [
    "# Run it once to download the dataset\n",
    "\n",
    "g = gds.graph.ogbn.load(\"ogbn-arxiv\")\n",
    "g.drop()"
   ]
  },
  {
   "cell_type": "code",
   "execution_count": 26,
   "id": "9eea8c09",
   "metadata": {},
   "outputs": [
    {
     "name": "stderr",
     "output_type": "stream",
     "text": [
      "Uploading Nodes: 100%|██████████| 169343/169343 [00:21<00:00, 7824.31Records/s]\n",
      "Uploading Relationships: 100%|██████████| 1166243/1166243 [00:02<00:00, 395508.22Records/s]\n"
     ]
    },
    {
     "name": "stdout",
     "output_type": "stream",
     "text": [
      "25.4 s ± 0 ns per loop (mean ± std. dev. of 1 run, 1 loop each)\n"
     ]
    }
   ],
   "source": [
    "%%timeit -n 1 -r 1\n",
    "\n",
    "gds.graph.ogbn.load(\"ogbn-arxiv\")"
   ]
  },
  {
   "cell_type": "code",
   "execution_count": null,
   "id": "d0b2bad8",
   "metadata": {},
   "outputs": [],
   "source": [
    "gds.graph.get(\"ogbn-arxiv\").drop()"
   ]
  },
  {
   "cell_type": "code",
   "execution_count": 29,
   "id": "fb4a1d07",
   "metadata": {},
   "outputs": [],
   "source": [
    "gds.close()"
   ]
  },
  {
   "cell_type": "code",
   "execution_count": 30,
   "id": "e923ce42",
   "metadata": {},
   "outputs": [],
   "source": [
    "gds = GraphDataScience(NEO4J_CONNECTION_URI, auth=(NEO4J_USERNAME, NEO4J_PASSWORD), aura_ds=True, arrow=False)"
   ]
  },
  {
   "cell_type": "code",
   "execution_count": 31,
   "id": "d6e2e47e",
   "metadata": {},
   "outputs": [
    {
     "name": "stdout",
     "output_type": "stream",
     "text": [
      "1min 11s ± 0 ns per loop (mean ± std. dev. of 1 run, 1 loop each)\n"
     ]
    }
   ],
   "source": [
    "%%timeit -n 1 -r 1\n",
    "\n",
    "arxiv = gds.graph.ogbn.load(\"ogbn-arxiv\")"
   ]
  },
  {
   "cell_type": "code",
   "execution_count": null,
   "id": "cffa287a",
   "metadata": {},
   "outputs": [],
   "source": [
    "gds.graph.get(\"ogbn-arxiv\").drop()"
   ]
  }
 ],
 "metadata": {
  "kernelspec": {
   "display_name": "Python 3 (ipykernel)",
   "language": "python",
   "name": "python3"
  },
  "language_info": {
   "codemirror_mode": {
    "name": "ipython",
    "version": 3
   },
   "file_extension": ".py",
   "mimetype": "text/x-python",
   "name": "python",
   "nbconvert_exporter": "python",
   "pygments_lexer": "ipython3",
   "version": "3.10.11"
  }
 },
 "nbformat": 4,
 "nbformat_minor": 5
}

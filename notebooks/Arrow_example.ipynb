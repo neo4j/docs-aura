{
 "cells": [
  {
   "attachments": {},
   "cell_type": "markdown",
   "id": "23320879",
   "metadata": {},
   "source": [
    "# Arrow example"
   ]
  },
  {
   "attachments": {},
   "cell_type": "markdown",
   "id": "777ca9ab",
   "metadata": {},
   "source": [
    "Apache Arrow is already installed and configured on AuraDS.\n",
    "The easiest way to use Arrow is via the GDS Python client. \n",
    "When initialized, the client by default tries to use it (via the `arrow` parameter) if it is available on the server.\n",
    "\n",
    "To see the difference in performance that Arrow enables, we load a dataset with Arrow enabled (`arrow=True`, the default) and disabled (`arrow=False`) and compare the time."
   ]
  },
  {
   "attachments": {},
   "cell_type": "markdown",
   "id": "9f56b932",
   "metadata": {},
   "source": [
    "## Setup"
   ]
  },
  {
   "attachments": {},
   "cell_type": "markdown",
   "id": "375d13ed",
   "metadata": {},
   "source": [
    "For this example, the `ogb` extra is needed in order to load OGBN datasets."
   ]
  },
  {
   "cell_type": "code",
   "execution_count": null,
   "id": "10af7de1",
   "metadata": {},
   "outputs": [],
   "source": [
    "%pip install 'graphdatascience[ogb]==1.7'\n",
    "\n",
    "from graphdatascience import GraphDataScience\n",
    "\n",
    "# Replace with the actual connection URI and credentials\n",
    "NEO4J_CONNECTION_URI = \"neo4j+s://xxxxxxxx.databases.neo4j.io\"\n",
    "NEO4J_USERNAME = \"neo4j\"\n",
    "NEO4J_PASSWORD = \"\""
   ]
  },
  {
   "attachments": {},
   "cell_type": "markdown",
   "id": "541f22f4",
   "metadata": {},
   "source": [
    "## Default client (with Arrow enabled)"
   ]
  },
  {
   "attachments": {},
   "cell_type": "markdown",
   "id": "41e56a95",
   "metadata": {},
   "source": [
    "The default client constructor has the `arrow` parameter set to `True`, which means that Apache Arrow is used by default if present."
   ]
  },
  {
   "cell_type": "code",
   "execution_count": null,
   "id": "280aaddb",
   "metadata": {},
   "outputs": [],
   "source": [
    "gds = GraphDataScience(NEO4J_CONNECTION_URI, auth=(NEO4J_USERNAME, NEO4J_PASSWORD), aura_ds=True)\n",
    "\n",
    "# Necessary if Arrow is enabled (as is by default on Aura)\n",
    "gds.set_database(\"neo4j\")"
   ]
  },
  {
   "attachments": {},
   "cell_type": "markdown",
   "id": "60ddad0e",
   "metadata": {},
   "source": [
    "The `gds.debug.arrow()` procedure can be used to verify that Arrow is enabled on the server."
   ]
  },
  {
   "cell_type": "code",
   "execution_count": null,
   "id": "e8b4c7ab",
   "metadata": {},
   "outputs": [],
   "source": [
    "gds.run_cypher(\"CALL gds.debug.arrow() YIELD enabled\")"
   ]
  },
  {
   "attachments": {},
   "cell_type": "markdown",
   "id": "ba85ae63",
   "metadata": {},
   "source": [
    "First, we run the dataset loading process once in order to download the data."
   ]
  },
  {
   "cell_type": "code",
   "execution_count": null,
   "id": "fa39fdab",
   "metadata": {},
   "outputs": [],
   "source": [
    "g = gds.graph.ogbn.load(\"ogbn-arxiv\")\n",
    "g.drop()"
   ]
  },
  {
   "attachments": {},
   "cell_type": "markdown",
   "id": "537615f0",
   "metadata": {},
   "source": [
    "We can now time the loading process. On an 8 GB AuraDS instance, this should take less than 30 s."
   ]
  },
  {
   "cell_type": "code",
   "execution_count": null,
   "id": "9eea8c09",
   "metadata": {},
   "outputs": [],
   "source": [
    "%%timeit -n 1 -r 1\n",
    "\n",
    "gds.graph.ogbn.load(\"ogbn-arxiv\")"
   ]
  },
  {
   "attachments": {},
   "cell_type": "markdown",
   "id": "f75c1267",
   "metadata": {},
   "source": [
    "## Arrow disabled"
   ]
  },
  {
   "attachments": {},
   "cell_type": "markdown",
   "id": "de91da2b",
   "metadata": {},
   "source": [
    "To run the same loading process without Arrow, we need to drop the graph and recreate the client (this time with Arrow disabled)."
   ]
  },
  {
   "cell_type": "code",
   "execution_count": 15,
   "id": "d0b2bad8",
   "metadata": {},
   "outputs": [],
   "source": [
    "gds.graph.get(\"ogbn-arxiv\").drop()\n",
    "gds.close()\n",
    "\n",
    "gds = GraphDataScience(NEO4J_CONNECTION_URI, auth=(NEO4J_USERNAME, NEO4J_PASSWORD), aura_ds=True, arrow=False)"
   ]
  },
  {
   "attachments": {},
   "cell_type": "markdown",
   "id": "4116adc3",
   "metadata": {},
   "source": [
    "We can now time the loading process again. On an 8 GB AuraDS instance, this should take more than 1 minute."
   ]
  },
  {
   "cell_type": "code",
   "execution_count": null,
   "id": "d6e2e47e",
   "metadata": {},
   "outputs": [],
   "source": [
    "%%timeit -n 1 -r 1\n",
    "\n",
    "gds.graph.ogbn.load(\"ogbn-arxiv\")"
   ]
  },
  {
   "attachments": {},
   "cell_type": "markdown",
   "id": "68f58bc8",
   "metadata": {},
   "source": [
    "## Cleanup"
   ]
  },
  {
   "cell_type": "code",
   "execution_count": null,
   "id": "cffa287a",
   "metadata": {},
   "outputs": [],
   "source": [
    "gds.graph.get(\"ogbn-arxiv\").drop()\n",
    "gds.close()"
   ]
  }
 ],
 "metadata": {
  "kernelspec": {
   "display_name": "Python 3 (ipykernel)",
   "language": "python",
   "name": "python3"
  },
  "language_info": {
   "codemirror_mode": {
    "name": "ipython",
    "version": 3
   },
   "file_extension": ".py",
   "mimetype": "text/x-python",
   "name": "python",
   "nbconvert_exporter": "python",
   "pygments_lexer": "ipython3",
   "version": "3.10.11"
  }
 },
 "nbformat": 4,
 "nbformat_minor": 5
}

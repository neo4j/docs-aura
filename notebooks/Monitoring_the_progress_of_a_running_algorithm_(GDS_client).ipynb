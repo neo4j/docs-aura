{
  "cells": [
    {
      "cell_type": "markdown",
      "metadata": {
        "id": "5pAtxzacLUbw"
      },
      "source": [
        "# Setup"
      ]
    },
    {
      "cell_type": "code",
      "execution_count": null,
      "metadata": {
        "id": "c_zdstymuaFL"
      },
      "outputs": [],
      "source": [
        "%pip install graphdatascience"
      ]
    },
    {
      "cell_type": "code",
      "execution_count": null,
      "metadata": {
        "id": "4noxN2_UueXk"
      },
      "outputs": [],
      "source": [
        "# Import the client\n",
        "from graphdatascience import GraphDataScience\n",
        "\n",
        "# Replace with the actual URI, username, and password\n",
        "AURA_CONNECTION_URI = \"neo4j+s://xxxxxxxx.databases.neo4j.io\"\n",
        "AURA_USERNAME = \"neo4j\"\n",
        "AURA_PASSWORD = \"\"\n",
        "\n",
        "# Configure the client with AuraDS-recommended settings\n",
        "gds = GraphDataScience(\n",
        "    AURA_CONNECTION_URI,\n",
        "    auth=(AURA_USERNAME, AURA_PASSWORD),\n",
        "    aura_ds=True\n",
        ")"
      ]
    },
    {
      "cell_type": "code",
      "execution_count": null,
      "metadata": {
        "colab": {
          "base_uri": "https://localhost:8080/"
        },
        "id": "NFBltGZcukN0",
        "outputId": "af17ada8-b238-4ddd-d712-ab0ea418497d"
      },
      "outputs": [
        {
          "name": "stdout",
          "output_type": "stream",
          "text": [
            "name                        example-graph\n",
            "nodes                             1000000\n",
            "relationships                     2999467\n",
            "generateMillis                        893\n",
            "relationshipSeed                     None\n",
            "averageDegree                         3.0\n",
            "relationshipDistribution        POWER_LAW\n",
            "relationshipProperty                   {}\n",
            "Name: 0, dtype: object\n"
          ]
        }
      ],
      "source": [
        "# Run the graph generation algorithm and retrieve the corresponding graph object\n",
        "g, result = gds.beta.graph.generate(\n",
        "    \"example-graph\",\n",
        "    1000000,\n",
        "    3,\n",
        "    relationshipDistribution=\"POWER_LAW\"\n",
        ")\n",
        "\n",
        "# Print prettified graph stats\n",
        "print(result)"
      ]
    },
    {
      "cell_type": "markdown",
      "metadata": {
        "id": "yxbAuGW0LXmO"
      },
      "source": [
        "# Run the threads"
      ]
    },
    {
      "cell_type": "code",
      "execution_count": null,
      "metadata": {
        "colab": {
          "base_uri": "https://localhost:8080/"
        },
        "id": "c5y4Xp14y6td",
        "outputId": "98a4e0d8-96c6-460f-bb9e-d525c896ea22"
      },
      "outputs": [
        {
          "name": "stdout",
          "output_type": "stream",
          "text": [
            "Running label propagation\n",
            "Sleeping for 5 seconds\n",
            "                                  jobId          taskName progress  \\\n",
            "0  02a5afa2-175a-499f-b41c-98fd88b4cc86  LabelPropagation   18.15%   \n",
            "\n",
            "    progressBar   status         timeStarted elapsedTime  \n",
            "0  [#~~~~~~~~~]  RUNNING  14:40:02.658000000   5 seconds  \n",
            "Sleeping for 10 more seconds\n",
            "                                  jobId          taskName progress  \\\n",
            "0  02a5afa2-175a-499f-b41c-98fd88b4cc86  LabelPropagation   35.98%   \n",
            "\n",
            "    progressBar   status         timeStarted elapsedTime  \n",
            "0  [###~~~~~~~]  RUNNING  14:40:02.658000000  16 seconds  \n",
            "mutateMillis                                                             0\n",
            "nodePropertiesWritten                                              1000000\n",
            "ranIterations                                                           10\n",
            "didConverge                                                          False\n",
            "communityCount                                                      914596\n",
            "communityDistribution    {'p99': 3, 'min': 1, 'max': 16, 'mean': 1.0933...\n",
            "postProcessingMillis                                                    61\n",
            "preProcessingMillis                                                      0\n",
            "computeMillis                                                        74580\n",
            "configuration            {'maxIterations': 10, 'seedProperty': None, 'c...\n",
            "Name: 0, dtype: object\n"
          ]
        }
      ],
      "source": [
        "# Import to run the long-running algorithm in a thread\n",
        "import threading\n",
        "# Import to use the sleep method\n",
        "import time\n",
        "\n",
        "\n",
        "# Method to call the label propagation algorithm from a thread\n",
        "def run_label_prop():\n",
        "    print(\"Running label propagation\")\n",
        "\n",
        "    result = gds.labelPropagation.mutate(\n",
        "        g,\n",
        "        mutateProperty=\"communityID\"\n",
        "    )\n",
        "\n",
        "    print(result)\n",
        "\n",
        "\n",
        "# Method to get and pretty-print the algorithm progress\n",
        "def run_list_progress():\n",
        "    result = gds.beta.listProgress()\n",
        "\n",
        "    print(result)\n",
        "\n",
        "\n",
        "# Create a thread for the label propagation algorithm and start it\n",
        "label_prop_query_thread = threading.Thread(target=run_label_prop)\n",
        "label_prop_query_thread.start()\n",
        "\n",
        "# Sleep for a few seconds so the label propagation query has time to get going\n",
        "print('Sleeping for 5 seconds')\n",
        "time.sleep(5)\n",
        "\n",
        "# Check the algorithm progress\n",
        "run_list_progress()\n",
        "\n",
        "# Sleep for a few more seconds\n",
        "print('Sleeping for 10 more seconds')\n",
        "time.sleep(10)\n",
        "\n",
        "# Check the algorithm progress again\n",
        "run_list_progress()\n",
        "\n",
        "# Block and wait for the algorithm thread to finish\n",
        "label_prop_query_thread.join()"
      ]
    },
    {
      "cell_type": "markdown",
      "metadata": {
        "id": "dnZES_Z1LSV2"
      },
      "source": [
        "# Cleanup"
      ]
    },
    {
      "cell_type": "code",
      "execution_count": null,
      "metadata": {
        "colab": {
          "base_uri": "https://localhost:8080/"
        },
        "id": "DABMjgz5zEoZ",
        "outputId": "b9faee20-cfa5-4457-ed66-3781e21e367b"
      },
      "outputs": [
        {
          "name": "stdout",
          "output_type": "stream",
          "text": [
            "graphName                                                example-graph\n",
            "database                                                         neo4j\n",
            "memoryUsage                                                           \n",
            "sizeInBytes                                                         -1\n",
            "nodeCount                                                      1000000\n",
            "relationshipCount                                              2999467\n",
            "configuration        {'orientation': 'NATURAL', 'relationshipProper...\n",
            "density                                                       0.000003\n",
            "creationTime                       2022-03-29T14:39:25.506835000+00:00\n",
            "modificationTime                   2022-03-29T14:41:17.239723000+00:00\n",
            "schema               {'relationships': {'REL': {}}, 'nodes': {'__AL...\n",
            "Name: 0, dtype: object\n"
          ]
        }
      ],
      "source": [
        "result = gds.graph.drop(g)\n",
        "\n",
        "print(result)"
      ]
    }
  ],
  "metadata": {
    "colab": {
      "provenance": []
    },
    "kernelspec": {
      "display_name": "Python 3",
      "name": "python3"
    },
    "language_info": {
      "name": "python"
    }
  },
  "nbformat": 4,
  "nbformat_minor": 0
}

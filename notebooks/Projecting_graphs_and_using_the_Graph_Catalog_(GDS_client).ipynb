{
  "cells": [
    {
      "cell_type": "markdown",
      "metadata": {
        "id": "Z4DZ9-FcmySq"
      },
      "source": [
        "# Setup"
      ]
    },
    {
      "cell_type": "code",
      "execution_count": null,
      "metadata": {
        "id": "-m-DfktDnFYH"
      },
      "outputs": [],
      "source": [
        "%pip install graphdatascience"
      ]
    },
    {
      "cell_type": "code",
      "execution_count": null,
      "metadata": {
        "id": "WbUUcgjPnSwD"
      },
      "outputs": [],
      "source": [
        "# Import the client\n",
        "from graphdatascience import GraphDataScience\n",
        "\n",
        "# Replace with the actual URI, username, and password\n",
        "AURA_CONNECTION_URI = \"neo4j+s://xxxxxxxx.databases.neo4j.io\"\n",
        "AURA_USERNAME = \"neo4j\"\n",
        "AURA_PASSWORD = \"\"\n",
        "\n",
        "# Configure the client with AuraDS-recommended settings\n",
        "gds = GraphDataScience(\n",
        "    AURA_CONNECTION_URI,\n",
        "    auth=(AURA_USERNAME, AURA_PASSWORD),\n",
        "    aura_ds=True\n",
        ")"
      ]
    },
    {
      "cell_type": "markdown",
      "metadata": {
        "id": "WMSOON_JJasT"
      },
      "source": [
        "# Load data from Neo4j with native projections"
      ]
    },
    {
      "cell_type": "code",
      "execution_count": null,
      "metadata": {
        "colab": {
          "base_uri": "https://localhost:8080/",
          "height": 49
        },
        "id": "3bYO7Alcp1Hu",
        "outputId": "e9c0e7a9-3d66-4e01-ed3a-5384d3c8e0ba"
      },
      "outputs": [
        {
          "data": {
            "text/html": [
              "\n",
              "  <div id=\"df-d8410ebd-e341-417d-a852-8d944559b1db\">\n",
              "    <div class=\"colab-df-container\">\n",
              "      <div>\n",
              "<style scoped>\n",
              "    .dataframe tbody tr th:only-of-type {\n",
              "        vertical-align: middle;\n",
              "    }\n",
              "\n",
              "    .dataframe tbody tr th {\n",
              "        vertical-align: top;\n",
              "    }\n",
              "\n",
              "    .dataframe thead th {\n",
              "        text-align: right;\n",
              "    }\n",
              "</style>\n",
              "<table border=\"1\" class=\"dataframe\">\n",
              "  <thead>\n",
              "    <tr style=\"text-align: right;\">\n",
              "      <th></th>\n",
              "    </tr>\n",
              "  </thead>\n",
              "  <tbody>\n",
              "  </tbody>\n",
              "</table>\n",
              "</div>\n",
              "      <button class=\"colab-df-convert\" onclick=\"convertToInteractive('df-d8410ebd-e341-417d-a852-8d944559b1db')\"\n",
              "              title=\"Convert this dataframe to an interactive table.\"\n",
              "              style=\"display:none;\">\n",
              "        \n",
              "  <svg xmlns=\"http://www.w3.org/2000/svg\" height=\"24px\"viewBox=\"0 0 24 24\"\n",
              "       width=\"24px\">\n",
              "    <path d=\"M0 0h24v24H0V0z\" fill=\"none\"/>\n",
              "    <path d=\"M18.56 5.44l.94 2.06.94-2.06 2.06-.94-2.06-.94-.94-2.06-.94 2.06-2.06.94zm-11 1L8.5 8.5l.94-2.06 2.06-.94-2.06-.94L8.5 2.5l-.94 2.06-2.06.94zm10 10l.94 2.06.94-2.06 2.06-.94-2.06-.94-.94-2.06-.94 2.06-2.06.94z\"/><path d=\"M17.41 7.96l-1.37-1.37c-.4-.4-.92-.59-1.43-.59-.52 0-1.04.2-1.43.59L10.3 9.45l-7.72 7.72c-.78.78-.78 2.05 0 2.83L4 21.41c.39.39.9.59 1.41.59.51 0 1.02-.2 1.41-.59l7.78-7.78 2.81-2.81c.8-.78.8-2.07 0-2.86zM5.41 20L4 18.59l7.72-7.72 1.47 1.35L5.41 20z\"/>\n",
              "  </svg>\n",
              "      </button>\n",
              "      \n",
              "  <style>\n",
              "    .colab-df-container {\n",
              "      display:flex;\n",
              "      flex-wrap:wrap;\n",
              "      gap: 12px;\n",
              "    }\n",
              "\n",
              "    .colab-df-convert {\n",
              "      background-color: #E8F0FE;\n",
              "      border: none;\n",
              "      border-radius: 50%;\n",
              "      cursor: pointer;\n",
              "      display: none;\n",
              "      fill: #1967D2;\n",
              "      height: 32px;\n",
              "      padding: 0 0 0 0;\n",
              "      width: 32px;\n",
              "    }\n",
              "\n",
              "    .colab-df-convert:hover {\n",
              "      background-color: #E2EBFA;\n",
              "      box-shadow: 0px 1px 2px rgba(60, 64, 67, 0.3), 0px 1px 3px 1px rgba(60, 64, 67, 0.15);\n",
              "      fill: #174EA6;\n",
              "    }\n",
              "\n",
              "    [theme=dark] .colab-df-convert {\n",
              "      background-color: #3B4455;\n",
              "      fill: #D2E3FC;\n",
              "    }\n",
              "\n",
              "    [theme=dark] .colab-df-convert:hover {\n",
              "      background-color: #434B5C;\n",
              "      box-shadow: 0px 1px 3px 1px rgba(0, 0, 0, 0.15);\n",
              "      filter: drop-shadow(0px 1px 2px rgba(0, 0, 0, 0.3));\n",
              "      fill: #FFFFFF;\n",
              "    }\n",
              "  </style>\n",
              "\n",
              "      <script>\n",
              "        const buttonEl =\n",
              "          document.querySelector('#df-d8410ebd-e341-417d-a852-8d944559b1db button.colab-df-convert');\n",
              "        buttonEl.style.display =\n",
              "          google.colab.kernel.accessAllowed ? 'block' : 'none';\n",
              "\n",
              "        async function convertToInteractive(key) {\n",
              "          const element = document.querySelector('#df-d8410ebd-e341-417d-a852-8d944559b1db');\n",
              "          const dataTable =\n",
              "            await google.colab.kernel.invokeFunction('convertToInteractive',\n",
              "                                                     [key], {});\n",
              "          if (!dataTable) return;\n",
              "\n",
              "          const docLinkHtml = 'Like what you see? Visit the ' +\n",
              "            '<a target=\"_blank\" href=https://colab.research.google.com/notebooks/data_table.ipynb>data table notebook</a>'\n",
              "            + ' to learn more about interactive tables.';\n",
              "          element.innerHTML = '';\n",
              "          dataTable['output_type'] = 'display_data';\n",
              "          await google.colab.output.renderOutput(dataTable, element);\n",
              "          const docLink = document.createElement('div');\n",
              "          docLink.innerHTML = docLinkHtml;\n",
              "          element.appendChild(docLink);\n",
              "        }\n",
              "      </script>\n",
              "    </div>\n",
              "  </div>\n",
              "  "
            ],
            "text/plain": [
              "Empty DataFrame\n",
              "Columns: []\n",
              "Index: []"
            ]
          },
          "execution_count": 50,
          "metadata": {},
          "output_type": "execute_result"
        }
      ],
      "source": [
        "gds.run_cypher(\"\"\"\n",
        "    MERGE (a:EngineeringManagement {name: 'Alistair'})\n",
        "    MERGE (j:EngineeringManagement {name: 'Jennifer'})\n",
        "    MERGE (d:Developer {name: 'Leila'})\n",
        "    MERGE (a)-[:MANAGES {start_date: 987654321}]->(d)\n",
        "    MERGE (j)-[:MANAGES {start_date: 123456789, end_date: 987654321}]->(d)\n",
        "\"\"\")"
      ]
    },
    {
      "cell_type": "code",
      "execution_count": null,
      "metadata": {
        "colab": {
          "base_uri": "https://localhost:8080/"
        },
        "id": "ymJNG_7tqHEo",
        "outputId": "3ef2abd1-8ade-4469-93b1-94d85679c1f8"
      },
      "outputs": [
        {
          "name": "stdout",
          "output_type": "stream",
          "text": [
            "nodeProjection            {'EngineeringManagement': {'label': 'Engineeri...\n",
            "relationshipProjection    {'MANAGES': {'orientation': 'NATURAL', 'aggreg...\n",
            "graphName                                           shorthand-example-graph\n",
            "nodeCount                                                                 3\n",
            "relationshipCount                                                         2\n",
            "projectMillis                                                             4\n",
            "Name: 0, dtype: object\n"
          ]
        }
      ],
      "source": [
        "# Project a graph using the shorthand syntax\n",
        "shorthand_graph, result = gds.graph.project(\n",
        "    \"shorthand-example-graph\",\n",
        "    [\"EngineeringManagement\", \"Developer\"],\n",
        "    [\"MANAGES\"]\n",
        ")\n",
        "\n",
        "print(result)"
      ]
    },
    {
      "cell_type": "code",
      "execution_count": null,
      "metadata": {
        "colab": {
          "base_uri": "https://localhost:8080/"
        },
        "id": "sw0oj50fqTHa",
        "outputId": "f1e52279-340b-456b-c4e9-12131c4fb20d"
      },
      "outputs": [
        {
          "name": "stdout",
          "output_type": "stream",
          "text": [
            "nodeProjection            {'PersonD': {'label': 'Developer', 'properties...\n",
            "relationshipProjection    {'KNOWS': {'orientation': 'UNDIRECTED', 'aggre...\n",
            "graphName                                       extended-form-example-graph\n",
            "nodeCount                                                                 3\n",
            "relationshipCount                                                         4\n",
            "projectMillis                                                             5\n",
            "Name: 0, dtype: object\n"
          ]
        }
      ],
      "source": [
        "# Project a graph using the extended syntax\n",
        "extended_form_graph, result = gds.graph.project(\n",
        "    \"extended-form-example-graph\",\n",
        "    {\n",
        "        \"PersonEM\": {\n",
        "            \"label\": \"EngineeringManagement\"\n",
        "        },\n",
        "        \"PersonD\": {\n",
        "            \"label\": \"Developer\"\n",
        "        }\n",
        "    },\n",
        "    {\n",
        "        \"KNOWS\": {\n",
        "            \"type\": \"MANAGES\",\n",
        "            \"orientation\": \"UNDIRECTED\",\n",
        "            \"properties\": {\n",
        "                \"start_date\": {\n",
        "                    \"property\": \"start_date\"\n",
        "                },\n",
        "                \"end_date\": {\n",
        "                    \"property\": \"end_date\",\n",
        "                    \"defaultValue\": 999999999\n",
        "                }\n",
        "            }\n",
        "        }\n",
        "    }\n",
        ")\n",
        "\n",
        "print(result)"
      ]
    },
    {
      "cell_type": "markdown",
      "metadata": {
        "id": "-9mCDf0XMU60"
      },
      "source": [
        "# Use the Graph Catalog"
      ]
    },
    {
      "cell_type": "code",
      "execution_count": null,
      "metadata": {
        "colab": {
          "base_uri": "https://localhost:8080/"
        },
        "id": "l-5gJ8KyKIg8",
        "outputId": "ce143d0e-c83f-4e42-e6a4-57a2db9e0b8e"
      },
      "outputs": [
        {
          "name": "stdout",
          "output_type": "stream",
          "text": [
            "                                  degreeDistribution  \\\n",
            "0  {'p99': 4, 'min': 2, 'max': 4, 'mean': 2.66666...   \n",
            "1  {'p99': 1, 'min': 0, 'max': 1, 'mean': 0.66666...   \n",
            "\n",
            "                     graphName database memoryUsage  sizeInBytes  nodeCount  \\\n",
            "0  extended-form-example-graph    neo4j    4354 KiB      4459352          3   \n",
            "1      shorthand-example-graph    neo4j     257 KiB       263976          3   \n",
            "\n",
            "   relationshipCount                                      configuration  \\\n",
            "0                  4  {'relationshipProjection': {'KNOWS': {'orienta...   \n",
            "1                  2  {'relationshipProjection': {'MANAGES': {'orien...   \n",
            "\n",
            "    density                         creationTime  \\\n",
            "0  0.666667  2022-03-29T13:25:47.786848000+00:00   \n",
            "1  0.333333  2022-03-29T13:25:44.303603000+00:00   \n",
            "\n",
            "                      modificationTime  \\\n",
            "0  2022-03-29T13:25:47.793019000+00:00   \n",
            "1  2022-03-29T13:25:44.308548000+00:00   \n",
            "\n",
            "                                              schema  \n",
            "0  {'relationships': {'KNOWS': {'end_date': 'Floa...  \n",
            "1  {'relationships': {'MANAGES': {}}, 'nodes': {'...  \n"
          ]
        }
      ],
      "source": [
        "# List all in-memory graphs\n",
        "all_graphs = gds.graph.list()\n",
        "\n",
        "print(all_graphs)"
      ]
    },
    {
      "cell_type": "code",
      "execution_count": null,
      "metadata": {
        "colab": {
          "base_uri": "https://localhost:8080/"
        },
        "id": "FxFuf2iGKXq-",
        "outputId": "94089e17-7ef4-4e43-f8ac-72930a551904"
      },
      "outputs": [
        {
          "name": "stdout",
          "output_type": "stream",
          "text": [
            "graphName    shorthand-example-graph\n",
            "exists                          True\n",
            "Name: 0, dtype: object\n"
          ]
        }
      ],
      "source": [
        "# Check whether the \"shorthand-example-graph\" graph exists in memory\n",
        "graph_exists = gds.graph.exists(\"shorthand-example-graph\")\n",
        "\n",
        "print(graph_exists)"
      ]
    },
    {
      "cell_type": "code",
      "execution_count": null,
      "metadata": {
        "colab": {
          "base_uri": "https://localhost:8080/"
        },
        "id": "YKuItSEZOUsZ",
        "outputId": "152a4849-4309-4033-c429-a05213e6a035"
      },
      "outputs": [
        {
          "name": "stdout",
          "output_type": "stream",
          "text": [
            "graphName                                      shorthand-example-graph\n",
            "database                                                         neo4j\n",
            "memoryUsage                                                           \n",
            "sizeInBytes                                                         -1\n",
            "nodeCount                                                            3\n",
            "relationshipCount                                                    2\n",
            "configuration        {'relationshipProjection': {'MANAGES': {'orien...\n",
            "density                                                       0.333333\n",
            "creationTime                       2022-03-29T13:25:44.303603000+00:00\n",
            "modificationTime                   2022-03-29T13:25:44.308548000+00:00\n",
            "schema               {'relationships': {'MANAGES': {}}, 'nodes': {'...\n",
            "Name: 0, dtype: object\n"
          ]
        },
        {
          "data": {
            "text/plain": [
              "graphName                                  extended-form-example-graph\n",
              "database                                                         neo4j\n",
              "memoryUsage                                                           \n",
              "sizeInBytes                                                         -1\n",
              "nodeCount                                                            3\n",
              "relationshipCount                                                    4\n",
              "configuration        {'relationshipProjection': {'KNOWS': {'orienta...\n",
              "density                                                       0.666667\n",
              "creationTime                       2022-03-29T13:25:47.786848000+00:00\n",
              "modificationTime                   2022-03-29T13:25:47.793019000+00:00\n",
              "schema               {'relationships': {'KNOWS': {'end_date': 'Floa...\n",
              "Name: 0, dtype: object"
            ]
          },
          "execution_count": 57,
          "metadata": {},
          "output_type": "execute_result"
        }
      ],
      "source": [
        "# Drop a graph object and keep the result of the call\n",
        "result = gds.graph.drop(shorthand_graph)\n",
        "\n",
        "# Print the result\n",
        "print(result)\n",
        "\n",
        "# Drop a graph object and just print the result of the call\n",
        "gds.graph.drop(extended_form_graph)"
      ]
    },
    {
      "cell_type": "markdown",
      "metadata": {
        "id": "iTqVDMrenNg7"
      },
      "source": [
        "# Cleanup"
      ]
    },
    {
      "cell_type": "code",
      "execution_count": null,
      "metadata": {
        "colab": {
          "base_uri": "https://localhost:8080/",
          "height": 49
        },
        "id": "SAOFux_Vqgq2",
        "outputId": "22ade125-4c7e-4ef5-ed15-fbddc7c9706d"
      },
      "outputs": [
        {
          "data": {
            "text/html": [
              "\n",
              "  <div id=\"df-e5089ea3-b7e5-4dde-8a95-f941c9d298fe\">\n",
              "    <div class=\"colab-df-container\">\n",
              "      <div>\n",
              "<style scoped>\n",
              "    .dataframe tbody tr th:only-of-type {\n",
              "        vertical-align: middle;\n",
              "    }\n",
              "\n",
              "    .dataframe tbody tr th {\n",
              "        vertical-align: top;\n",
              "    }\n",
              "\n",
              "    .dataframe thead th {\n",
              "        text-align: right;\n",
              "    }\n",
              "</style>\n",
              "<table border=\"1\" class=\"dataframe\">\n",
              "  <thead>\n",
              "    <tr style=\"text-align: right;\">\n",
              "      <th></th>\n",
              "    </tr>\n",
              "  </thead>\n",
              "  <tbody>\n",
              "  </tbody>\n",
              "</table>\n",
              "</div>\n",
              "      <button class=\"colab-df-convert\" onclick=\"convertToInteractive('df-e5089ea3-b7e5-4dde-8a95-f941c9d298fe')\"\n",
              "              title=\"Convert this dataframe to an interactive table.\"\n",
              "              style=\"display:none;\">\n",
              "        \n",
              "  <svg xmlns=\"http://www.w3.org/2000/svg\" height=\"24px\"viewBox=\"0 0 24 24\"\n",
              "       width=\"24px\">\n",
              "    <path d=\"M0 0h24v24H0V0z\" fill=\"none\"/>\n",
              "    <path d=\"M18.56 5.44l.94 2.06.94-2.06 2.06-.94-2.06-.94-.94-2.06-.94 2.06-2.06.94zm-11 1L8.5 8.5l.94-2.06 2.06-.94-2.06-.94L8.5 2.5l-.94 2.06-2.06.94zm10 10l.94 2.06.94-2.06 2.06-.94-2.06-.94-.94-2.06-.94 2.06-2.06.94z\"/><path d=\"M17.41 7.96l-1.37-1.37c-.4-.4-.92-.59-1.43-.59-.52 0-1.04.2-1.43.59L10.3 9.45l-7.72 7.72c-.78.78-.78 2.05 0 2.83L4 21.41c.39.39.9.59 1.41.59.51 0 1.02-.2 1.41-.59l7.78-7.78 2.81-2.81c.8-.78.8-2.07 0-2.86zM5.41 20L4 18.59l7.72-7.72 1.47 1.35L5.41 20z\"/>\n",
              "  </svg>\n",
              "      </button>\n",
              "      \n",
              "  <style>\n",
              "    .colab-df-container {\n",
              "      display:flex;\n",
              "      flex-wrap:wrap;\n",
              "      gap: 12px;\n",
              "    }\n",
              "\n",
              "    .colab-df-convert {\n",
              "      background-color: #E8F0FE;\n",
              "      border: none;\n",
              "      border-radius: 50%;\n",
              "      cursor: pointer;\n",
              "      display: none;\n",
              "      fill: #1967D2;\n",
              "      height: 32px;\n",
              "      padding: 0 0 0 0;\n",
              "      width: 32px;\n",
              "    }\n",
              "\n",
              "    .colab-df-convert:hover {\n",
              "      background-color: #E2EBFA;\n",
              "      box-shadow: 0px 1px 2px rgba(60, 64, 67, 0.3), 0px 1px 3px 1px rgba(60, 64, 67, 0.15);\n",
              "      fill: #174EA6;\n",
              "    }\n",
              "\n",
              "    [theme=dark] .colab-df-convert {\n",
              "      background-color: #3B4455;\n",
              "      fill: #D2E3FC;\n",
              "    }\n",
              "\n",
              "    [theme=dark] .colab-df-convert:hover {\n",
              "      background-color: #434B5C;\n",
              "      box-shadow: 0px 1px 3px 1px rgba(0, 0, 0, 0.15);\n",
              "      filter: drop-shadow(0px 1px 2px rgba(0, 0, 0, 0.3));\n",
              "      fill: #FFFFFF;\n",
              "    }\n",
              "  </style>\n",
              "\n",
              "      <script>\n",
              "        const buttonEl =\n",
              "          document.querySelector('#df-e5089ea3-b7e5-4dde-8a95-f941c9d298fe button.colab-df-convert');\n",
              "        buttonEl.style.display =\n",
              "          google.colab.kernel.accessAllowed ? 'block' : 'none';\n",
              "\n",
              "        async function convertToInteractive(key) {\n",
              "          const element = document.querySelector('#df-e5089ea3-b7e5-4dde-8a95-f941c9d298fe');\n",
              "          const dataTable =\n",
              "            await google.colab.kernel.invokeFunction('convertToInteractive',\n",
              "                                                     [key], {});\n",
              "          if (!dataTable) return;\n",
              "\n",
              "          const docLinkHtml = 'Like what you see? Visit the ' +\n",
              "            '<a target=\"_blank\" href=https://colab.research.google.com/notebooks/data_table.ipynb>data table notebook</a>'\n",
              "            + ' to learn more about interactive tables.';\n",
              "          element.innerHTML = '';\n",
              "          dataTable['output_type'] = 'display_data';\n",
              "          await google.colab.output.renderOutput(dataTable, element);\n",
              "          const docLink = document.createElement('div');\n",
              "          docLink.innerHTML = docLinkHtml;\n",
              "          element.appendChild(docLink);\n",
              "        }\n",
              "      </script>\n",
              "    </div>\n",
              "  </div>\n",
              "  "
            ],
            "text/plain": [
              "Empty DataFrame\n",
              "Columns: []\n",
              "Index: []"
            ]
          },
          "execution_count": 58,
          "metadata": {},
          "output_type": "execute_result"
        }
      ],
      "source": [
        "# Delete on-disk data\n",
        "gds.run_cypher(\"\"\"\n",
        "    MATCH (example)\n",
        "    WHERE example:EngineeringManagement OR example:Developer\n",
        "    DETACH DELETE example\n",
        "\"\"\")"
      ]
    }
  ],
  "metadata": {
    "colab": {
      "provenance": []
    },
    "kernelspec": {
      "display_name": "Python 3",
      "name": "python3"
    },
    "language_info": {
      "name": "python"
    }
  },
  "nbformat": 4,
  "nbformat_minor": 0
}

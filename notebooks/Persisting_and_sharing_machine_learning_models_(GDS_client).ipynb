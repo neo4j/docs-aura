{
  "cells": [
    {
      "cell_type": "markdown",
      "metadata": {
        "id": "DhxxzaTfNfaf"
      },
      "source": [
        "# Setup"
      ]
    },
    {
      "cell_type": "code",
      "execution_count": null,
      "metadata": {
        "id": "2_6L5whRubjZ"
      },
      "outputs": [],
      "source": [
        "%pip install graphdatascience"
      ]
    },
    {
      "cell_type": "code",
      "execution_count": null,
      "metadata": {
        "id": "KAXIm71Eue6_"
      },
      "outputs": [],
      "source": [
        "# Import the client\n",
        "from graphdatascience import GraphDataScience\n",
        "\n",
        "# Replace with the actual URI, username, and password\n",
        "AURA_CONNECTION_URI = \"neo4j+s://xxxxxxxx.databases.neo4j.io\"\n",
        "AURA_USERNAME = \"neo4j\"\n",
        "AURA_PASSWORD = \"\"\n",
        "\n",
        "# Configure the client with AuraDS-recommended settings\n",
        "gds = GraphDataScience(\n",
        "    AURA_CONNECTION_URI,\n",
        "    auth=(AURA_USERNAME, AURA_PASSWORD),\n",
        "    aura_ds=True\n",
        ")"
      ]
    },
    {
      "cell_type": "code",
      "execution_count": null,
      "metadata": {
        "id": "ym42WdhUukx9"
      },
      "outputs": [],
      "source": [
        "gds.run_cypher(\"\"\"\n",
        "    MERGE ( dan:Person:ExampleData   {name: 'Dan',   age: 20, heightAndWeight: [185, 75]})\n",
        "    MERGE ( annie:Person:ExampleData {name: 'Annie', age: 12, heightAndWeight: [124, 42]})\n",
        "    MERGE ( matt:Person:ExampleData  {name: 'Matt',  age: 67, heightAndWeight: [170, 80]})\n",
        "    MERGE ( jeff:Person:ExampleData  {name: 'Jeff',  age: 45, heightAndWeight: [192, 85]})\n",
        "    MERGE ( brie:Person:ExampleData  {name: 'Brie',  age: 27, heightAndWeight: [176, 57]})\n",
        "    MERGE ( elsa:Person:ExampleData  {name: 'Elsa',  age: 32, heightAndWeight: [158, 55]})\n",
        "    MERGE ( john:Person:ExampleData  {name: 'John',  age: 35, heightAndWeight: [172, 76]})\n",
        "\n",
        "    MERGE (dan)-[:KNOWS {relWeight: 1.0}]->(annie)\n",
        "    MERGE (dan)-[:KNOWS {relWeight: 1.6}]->(matt)\n",
        "    MERGE (annie)-[:KNOWS {relWeight: 0.1}]->(matt)\n",
        "    MERGE (annie)-[:KNOWS {relWeight: 3.0}]->(jeff)\n",
        "    MERGE (annie)-[:KNOWS {relWeight: 1.2}]->(brie)\n",
        "    MERGE (matt)-[:KNOWS {relWeight: 10.0}]->(brie)\n",
        "    MERGE (brie)-[:KNOWS {relWeight: 1.0}]->(elsa)\n",
        "    MERGE (brie)-[:KNOWS {relWeight: 2.2}]->(jeff)\n",
        "    MERGE (john)-[:KNOWS {relWeight: 5.0}]->(jeff)\n",
        "\n",
        "    RETURN True AS exampleDataCreated\n",
        "\"\"\")"
      ]
    },
    {
      "cell_type": "code",
      "execution_count": null,
      "metadata": {
        "colab": {
          "base_uri": "https://localhost:8080/"
        },
        "id": "_hYZgcGj3m5P",
        "outputId": "1a555c9d-b253-4697-f4c5-60594ffcbaf9"
      },
      "outputs": [
        {
          "name": "stdout",
          "output_type": "stream",
          "text": [
            "nodeProjection            {'Person': {'label': 'ExampleData', 'propertie...\n",
            "relationshipProjection    {'KNOWS': {'orientation': 'UNDIRECTED', 'aggre...\n",
            "graphName                                       example_graph_for_graphsage\n",
            "nodeCount                                                                 7\n",
            "relationshipCount                                                        18\n",
            "projectMillis                                                            48\n",
            "Name: 0, dtype: object\n"
          ]
        }
      ],
      "source": [
        "g, result = gds.graph.project(\n",
        "    \"example_graph_for_graphsage\",\n",
        "    {\n",
        "        \"Person\": {\n",
        "            \"label\": \"ExampleData\",\n",
        "            \"properties\": [\"age\", \"heightAndWeight\"]\n",
        "        }\n",
        "    },\n",
        "    {\n",
        "        \"KNOWS\": {\n",
        "            \"type\": \"KNOWS\",\n",
        "            \"orientation\": \"UNDIRECTED\",\n",
        "            \"properties\": [\"relWeight\"]\n",
        "        }\n",
        "    }\n",
        ")\n",
        "\n",
        "print(result)"
      ]
    },
    {
      "cell_type": "markdown",
      "metadata": {
        "id": "ZJ6nUm2QQ8H1"
      },
      "source": [
        "# Train a model"
      ]
    },
    {
      "cell_type": "code",
      "execution_count": null,
      "metadata": {
        "id": "eRhy7NP33svZ"
      },
      "outputs": [],
      "source": [
        "model, result = gds.beta.graphSage.train(\n",
        "    g,\n",
        "    modelName=\"example_graph_model_for_graphsage\",\n",
        "    featureProperties=[\"age\", \"heightAndWeight\"],\n",
        "    aggregator=\"mean\",\n",
        "    activationFunction=\"sigmoid\",\n",
        "    sampleSizes=[25, 10]\n",
        ")"
      ]
    },
    {
      "cell_type": "markdown",
      "metadata": {
        "id": "ElHmncG7Qj1D"
      },
      "source": [
        "# View the model catalog"
      ]
    },
    {
      "cell_type": "code",
      "execution_count": null,
      "metadata": {
        "colab": {
          "base_uri": "https://localhost:8080/"
        },
        "id": "vbNfd3YI3xeZ",
        "outputId": "e0af87c4-dd93-4768-cd60-4ad919e755b1"
      },
      "outputs": [
        {
          "name": "stdout",
          "output_type": "stream",
          "text": [
            "                                           modelInfo  \\\n",
            "0  {'modelName': 'example_graph_model_for_graphsa...   \n",
            "\n",
            "                                         trainConfig  \\\n",
            "0  {'maxIterations': 10, 'negativeSampleWeight': ...   \n",
            "\n",
            "                                         graphSchema  loaded  stored  \\\n",
            "0  {'relationships': {'KNOWS': {}}, 'nodes': {'Pe...    True   False   \n",
            "\n",
            "                          creationTime  shared  \n",
            "0  2022-03-29T15:00:50.485465000+00:00   False  \n"
          ]
        }
      ],
      "source": [
        "result = gds.beta.model.list()\n",
        "\n",
        "print(result)"
      ]
    },
    {
      "cell_type": "markdown",
      "metadata": {
        "id": "8n-lu1MjRCb5"
      },
      "source": [
        "# Save a model to disk"
      ]
    },
    {
      "cell_type": "code",
      "execution_count": null,
      "metadata": {
        "colab": {
          "base_uri": "https://localhost:8080/"
        },
        "id": "d4cOfV753zKu",
        "outputId": "e7c2feb0-a148-4546-913c-754673ea2b1d"
      },
      "outputs": [
        {
          "name": "stdout",
          "output_type": "stream",
          "text": [
            "modelName      example_graph_model_for_graphsage\n",
            "storeMillis                                   25\n",
            "Name: 0, dtype: object\n"
          ]
        }
      ],
      "source": [
        "result = gds.alpha.model.store(model)\n",
        "\n",
        "print(result)"
      ]
    },
    {
      "cell_type": "code",
      "execution_count": null,
      "metadata": {
        "colab": {
          "base_uri": "https://localhost:8080/"
        },
        "id": "reA6Rpf931Oy",
        "outputId": "0694217b-d6d5-4948-81cd-9d2da0554a2a"
      },
      "outputs": [
        {
          "name": "stdout",
          "output_type": "stream",
          "text": [
            "                                           modelInfo  \\\n",
            "0  {'modelName': 'example_graph_model_for_graphsa...   \n",
            "\n",
            "                                         trainConfig  \\\n",
            "0  {'maxIterations': 10, 'negativeSampleWeight': ...   \n",
            "\n",
            "                                         graphSchema  loaded  stored  \\\n",
            "0  {'relationships': {'__ALL__': {}}, 'nodes': {'...    True    True   \n",
            "\n",
            "                          creationTime  shared  \n",
            "0  2022-03-29T15:00:50.485465000+00:00   False  \n"
          ]
        }
      ],
      "source": [
        "result = gds.beta.model.list()\n",
        "\n",
        "print(result)"
      ]
    },
    {
      "cell_type": "markdown",
      "metadata": {
        "id": "jrSXzlzAQosA"
      },
      "source": [
        "# Share a model with other users"
      ]
    },
    {
      "cell_type": "markdown",
      "metadata": {
        "id": "Tzc7JdVXQdLi"
      },
      "source": [
        "## Create a new user"
      ]
    },
    {
      "cell_type": "code",
      "execution_count": null,
      "metadata": {
        "colab": {
          "base_uri": "https://localhost:8080/",
          "height": 49
        },
        "id": "bAfJBGWa33Rt",
        "outputId": "190203da-9c18-4558-ff14-be8f64cfdd33"
      },
      "outputs": [
        {
          "data": {
            "text/html": [
              "\n",
              "  <div id=\"df-a55ded68-88f4-4f73-9d8a-00f39a30bc8a\">\n",
              "    <div class=\"colab-df-container\">\n",
              "      <div>\n",
              "<style scoped>\n",
              "    .dataframe tbody tr th:only-of-type {\n",
              "        vertical-align: middle;\n",
              "    }\n",
              "\n",
              "    .dataframe tbody tr th {\n",
              "        vertical-align: top;\n",
              "    }\n",
              "\n",
              "    .dataframe thead th {\n",
              "        text-align: right;\n",
              "    }\n",
              "</style>\n",
              "<table border=\"1\" class=\"dataframe\">\n",
              "  <thead>\n",
              "    <tr style=\"text-align: right;\">\n",
              "      <th></th>\n",
              "    </tr>\n",
              "  </thead>\n",
              "  <tbody>\n",
              "  </tbody>\n",
              "</table>\n",
              "</div>\n",
              "      <button class=\"colab-df-convert\" onclick=\"convertToInteractive('df-a55ded68-88f4-4f73-9d8a-00f39a30bc8a')\"\n",
              "              title=\"Convert this dataframe to an interactive table.\"\n",
              "              style=\"display:none;\">\n",
              "        \n",
              "  <svg xmlns=\"http://www.w3.org/2000/svg\" height=\"24px\"viewBox=\"0 0 24 24\"\n",
              "       width=\"24px\">\n",
              "    <path d=\"M0 0h24v24H0V0z\" fill=\"none\"/>\n",
              "    <path d=\"M18.56 5.44l.94 2.06.94-2.06 2.06-.94-2.06-.94-.94-2.06-.94 2.06-2.06.94zm-11 1L8.5 8.5l.94-2.06 2.06-.94-2.06-.94L8.5 2.5l-.94 2.06-2.06.94zm10 10l.94 2.06.94-2.06 2.06-.94-2.06-.94-.94-2.06-.94 2.06-2.06.94z\"/><path d=\"M17.41 7.96l-1.37-1.37c-.4-.4-.92-.59-1.43-.59-.52 0-1.04.2-1.43.59L10.3 9.45l-7.72 7.72c-.78.78-.78 2.05 0 2.83L4 21.41c.39.39.9.59 1.41.59.51 0 1.02-.2 1.41-.59l7.78-7.78 2.81-2.81c.8-.78.8-2.07 0-2.86zM5.41 20L4 18.59l7.72-7.72 1.47 1.35L5.41 20z\"/>\n",
              "  </svg>\n",
              "      </button>\n",
              "      \n",
              "  <style>\n",
              "    .colab-df-container {\n",
              "      display:flex;\n",
              "      flex-wrap:wrap;\n",
              "      gap: 12px;\n",
              "    }\n",
              "\n",
              "    .colab-df-convert {\n",
              "      background-color: #E8F0FE;\n",
              "      border: none;\n",
              "      border-radius: 50%;\n",
              "      cursor: pointer;\n",
              "      display: none;\n",
              "      fill: #1967D2;\n",
              "      height: 32px;\n",
              "      padding: 0 0 0 0;\n",
              "      width: 32px;\n",
              "    }\n",
              "\n",
              "    .colab-df-convert:hover {\n",
              "      background-color: #E2EBFA;\n",
              "      box-shadow: 0px 1px 2px rgba(60, 64, 67, 0.3), 0px 1px 3px 1px rgba(60, 64, 67, 0.15);\n",
              "      fill: #174EA6;\n",
              "    }\n",
              "\n",
              "    [theme=dark] .colab-df-convert {\n",
              "      background-color: #3B4455;\n",
              "      fill: #D2E3FC;\n",
              "    }\n",
              "\n",
              "    [theme=dark] .colab-df-convert:hover {\n",
              "      background-color: #434B5C;\n",
              "      box-shadow: 0px 1px 3px 1px rgba(0, 0, 0, 0.15);\n",
              "      filter: drop-shadow(0px 1px 2px rgba(0, 0, 0, 0.3));\n",
              "      fill: #FFFFFF;\n",
              "    }\n",
              "  </style>\n",
              "\n",
              "      <script>\n",
              "        const buttonEl =\n",
              "          document.querySelector('#df-a55ded68-88f4-4f73-9d8a-00f39a30bc8a button.colab-df-convert');\n",
              "        buttonEl.style.display =\n",
              "          google.colab.kernel.accessAllowed ? 'block' : 'none';\n",
              "\n",
              "        async function convertToInteractive(key) {\n",
              "          const element = document.querySelector('#df-a55ded68-88f4-4f73-9d8a-00f39a30bc8a');\n",
              "          const dataTable =\n",
              "            await google.colab.kernel.invokeFunction('convertToInteractive',\n",
              "                                                     [key], {});\n",
              "          if (!dataTable) return;\n",
              "\n",
              "          const docLinkHtml = 'Like what you see? Visit the ' +\n",
              "            '<a target=\"_blank\" href=https://colab.research.google.com/notebooks/data_table.ipynb>data table notebook</a>'\n",
              "            + ' to learn more about interactive tables.';\n",
              "          element.innerHTML = '';\n",
              "          dataTable['output_type'] = 'display_data';\n",
              "          await google.colab.output.renderOutput(dataTable, element);\n",
              "          const docLink = document.createElement('div');\n",
              "          docLink.innerHTML = docLinkHtml;\n",
              "          element.appendChild(docLink);\n",
              "        }\n",
              "      </script>\n",
              "    </div>\n",
              "  </div>\n",
              "  "
            ],
            "text/plain": [
              "Empty DataFrame\n",
              "Columns: []\n",
              "Index: []"
            ]
          },
          "execution_count": 12,
          "metadata": {},
          "output_type": "execute_result"
        }
      ],
      "source": [
        "# Switch to the \"system\" database to run the\n",
        "# \"CREATE USER\" admin command\n",
        "gds.set_database(\"system\")\n",
        "\n",
        "gds.run_cypher(\"\"\"\n",
        "    CREATE USER testUser IF NOT EXISTS\n",
        "    SET PASSWORD 'password'\n",
        "    SET PASSWORD CHANGE NOT REQUIRED\n",
        "\"\"\")"
      ]
    },
    {
      "cell_type": "markdown",
      "metadata": {
        "id": "znCaofQcQbqv"
      },
      "source": [
        "## Publish the model"
      ]
    },
    {
      "cell_type": "code",
      "execution_count": null,
      "metadata": {
        "id": "JVxlPfBJ36G4"
      },
      "outputs": [],
      "source": [
        "# Switch back to the default \"neo4j\" database\n",
        "# to publish the model\n",
        "gds.set_database(\"neo4j\")\n",
        "\n",
        "model_public = gds.alpha.model.publish(model)\n",
        "\n",
        "print(model_public)"
      ]
    },
    {
      "cell_type": "markdown",
      "metadata": {
        "id": "3B6-pSgiQWjI"
      },
      "source": [
        "## View the model as a different user"
      ]
    },
    {
      "cell_type": "code",
      "execution_count": null,
      "metadata": {
        "colab": {
          "base_uri": "https://localhost:8080/"
        },
        "id": "ldxvKsqG3-p5",
        "outputId": "88a05f8b-6976-459a-8358-8b7c46134813"
      },
      "outputs": [
        {
          "name": "stdout",
          "output_type": "stream",
          "text": [
            "                                           modelInfo  \\\n",
            "0  {'modelName': 'example_graph_model_for_graphsa...   \n",
            "\n",
            "                                         trainConfig  \\\n",
            "0  {'maxIterations': 10, 'negativeSampleWeight': ...   \n",
            "\n",
            "                                         graphSchema  loaded  stored  \\\n",
            "0  {'relationships': {'__ALL__': {}}, 'nodes': {'...    True    True   \n",
            "\n",
            "                          creationTime  shared  \n",
            "0  2022-03-29T15:00:50.485465000+00:00    True  \n"
          ]
        }
      ],
      "source": [
        "test_user_gds = GraphDataScience(\n",
        "    AURA_CONNECTION_URI,\n",
        "    auth=(\"testUser\", \"password\"),\n",
        "    aura_ds=True\n",
        ")\n",
        "\n",
        "result = test_user_gds.beta.model.list()\n",
        "\n",
        "print(result)"
      ]
    },
    {
      "cell_type": "markdown",
      "metadata": {
        "id": "chuxdQY5QQ91"
      },
      "source": [
        "# Cleanup"
      ]
    },
    {
      "cell_type": "code",
      "execution_count": null,
      "metadata": {
        "colab": {
          "base_uri": "https://localhost:8080/",
          "height": 49
        },
        "id": "Qt_fg4us4BFh",
        "outputId": "d2f47f78-4da0-4806-d6aa-ab3465e9c884"
      },
      "outputs": [
        {
          "data": {
            "text/html": [
              "\n",
              "  <div id=\"df-e17e5e4d-e9ab-47e7-9e23-e67a6ea34ada\">\n",
              "    <div class=\"colab-df-container\">\n",
              "      <div>\n",
              "<style scoped>\n",
              "    .dataframe tbody tr th:only-of-type {\n",
              "        vertical-align: middle;\n",
              "    }\n",
              "\n",
              "    .dataframe tbody tr th {\n",
              "        vertical-align: top;\n",
              "    }\n",
              "\n",
              "    .dataframe thead th {\n",
              "        text-align: right;\n",
              "    }\n",
              "</style>\n",
              "<table border=\"1\" class=\"dataframe\">\n",
              "  <thead>\n",
              "    <tr style=\"text-align: right;\">\n",
              "      <th></th>\n",
              "    </tr>\n",
              "  </thead>\n",
              "  <tbody>\n",
              "  </tbody>\n",
              "</table>\n",
              "</div>\n",
              "      <button class=\"colab-df-convert\" onclick=\"convertToInteractive('df-e17e5e4d-e9ab-47e7-9e23-e67a6ea34ada')\"\n",
              "              title=\"Convert this dataframe to an interactive table.\"\n",
              "              style=\"display:none;\">\n",
              "        \n",
              "  <svg xmlns=\"http://www.w3.org/2000/svg\" height=\"24px\"viewBox=\"0 0 24 24\"\n",
              "       width=\"24px\">\n",
              "    <path d=\"M0 0h24v24H0V0z\" fill=\"none\"/>\n",
              "    <path d=\"M18.56 5.44l.94 2.06.94-2.06 2.06-.94-2.06-.94-.94-2.06-.94 2.06-2.06.94zm-11 1L8.5 8.5l.94-2.06 2.06-.94-2.06-.94L8.5 2.5l-.94 2.06-2.06.94zm10 10l.94 2.06.94-2.06 2.06-.94-2.06-.94-.94-2.06-.94 2.06-2.06.94z\"/><path d=\"M17.41 7.96l-1.37-1.37c-.4-.4-.92-.59-1.43-.59-.52 0-1.04.2-1.43.59L10.3 9.45l-7.72 7.72c-.78.78-.78 2.05 0 2.83L4 21.41c.39.39.9.59 1.41.59.51 0 1.02-.2 1.41-.59l7.78-7.78 2.81-2.81c.8-.78.8-2.07 0-2.86zM5.41 20L4 18.59l7.72-7.72 1.47 1.35L5.41 20z\"/>\n",
              "  </svg>\n",
              "      </button>\n",
              "      \n",
              "  <style>\n",
              "    .colab-df-container {\n",
              "      display:flex;\n",
              "      flex-wrap:wrap;\n",
              "      gap: 12px;\n",
              "    }\n",
              "\n",
              "    .colab-df-convert {\n",
              "      background-color: #E8F0FE;\n",
              "      border: none;\n",
              "      border-radius: 50%;\n",
              "      cursor: pointer;\n",
              "      display: none;\n",
              "      fill: #1967D2;\n",
              "      height: 32px;\n",
              "      padding: 0 0 0 0;\n",
              "      width: 32px;\n",
              "    }\n",
              "\n",
              "    .colab-df-convert:hover {\n",
              "      background-color: #E2EBFA;\n",
              "      box-shadow: 0px 1px 2px rgba(60, 64, 67, 0.3), 0px 1px 3px 1px rgba(60, 64, 67, 0.15);\n",
              "      fill: #174EA6;\n",
              "    }\n",
              "\n",
              "    [theme=dark] .colab-df-convert {\n",
              "      background-color: #3B4455;\n",
              "      fill: #D2E3FC;\n",
              "    }\n",
              "\n",
              "    [theme=dark] .colab-df-convert:hover {\n",
              "      background-color: #434B5C;\n",
              "      box-shadow: 0px 1px 3px 1px rgba(0, 0, 0, 0.15);\n",
              "      filter: drop-shadow(0px 1px 2px rgba(0, 0, 0, 0.3));\n",
              "      fill: #FFFFFF;\n",
              "    }\n",
              "  </style>\n",
              "\n",
              "      <script>\n",
              "        const buttonEl =\n",
              "          document.querySelector('#df-e17e5e4d-e9ab-47e7-9e23-e67a6ea34ada button.colab-df-convert');\n",
              "        buttonEl.style.display =\n",
              "          google.colab.kernel.accessAllowed ? 'block' : 'none';\n",
              "\n",
              "        async function convertToInteractive(key) {\n",
              "          const element = document.querySelector('#df-e17e5e4d-e9ab-47e7-9e23-e67a6ea34ada');\n",
              "          const dataTable =\n",
              "            await google.colab.kernel.invokeFunction('convertToInteractive',\n",
              "                                                     [key], {});\n",
              "          if (!dataTable) return;\n",
              "\n",
              "          const docLinkHtml = 'Like what you see? Visit the ' +\n",
              "            '<a target=\"_blank\" href=https://colab.research.google.com/notebooks/data_table.ipynb>data table notebook</a>'\n",
              "            + ' to learn more about interactive tables.';\n",
              "          element.innerHTML = '';\n",
              "          dataTable['output_type'] = 'display_data';\n",
              "          await google.colab.output.renderOutput(dataTable, element);\n",
              "          const docLink = document.createElement('div');\n",
              "          docLink.innerHTML = docLinkHtml;\n",
              "          element.appendChild(docLink);\n",
              "        }\n",
              "      </script>\n",
              "    </div>\n",
              "  </div>\n",
              "  "
            ],
            "text/plain": [
              "Empty DataFrame\n",
              "Columns: []\n",
              "Index: []"
            ]
          },
          "execution_count": 15,
          "metadata": {},
          "output_type": "execute_result"
        }
      ],
      "source": [
        "# Delete the example dataset\n",
        "gds.run_cypher(\"\"\"\n",
        "    MATCH (example:ExampleData)\n",
        "    DETACH DELETE example\n",
        "\"\"\")\n",
        "\n",
        "# Delete the projected graph from memory\n",
        "gds.graph.drop(g)\n",
        "\n",
        "# Drop the model from memory\n",
        "gds.beta.model.drop(model_public)\n",
        "\n",
        "# Delete the model from disk\n",
        "gds.alpha.model.delete(model_public)\n",
        "\n",
        "# Switch to the system database and delete the example user\n",
        "gds.set_database(\"system\")\n",
        "\n",
        "gds.run_cypher(\"\"\"\n",
        "    DROP USER testUser\n",
        "\"\"\")"
      ]
    }
  ],
  "metadata": {
    "colab": {
      "provenance": []
    },
    "kernelspec": {
      "display_name": "Python 3",
      "name": "python3"
    },
    "language_info": {
      "name": "python"
    }
  },
  "nbformat": 4,
  "nbformat_minor": 0
}

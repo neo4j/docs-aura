{
  "cells": [
    {
      "cell_type": "markdown",
      "metadata": {
        "id": "RFoThgm6i9og"
      },
      "source": [
        "# Setup"
      ]
    },
    {
      "cell_type": "code",
      "execution_count": null,
      "metadata": {
        "colab": {
          "base_uri": "https://localhost:8080/"
        },
        "id": "i41gt8hGVmz6",
        "outputId": "a373f5e6-25b3-452a-adf3-cabe62835921"
      },
      "outputs": [],
      "source": [
        "%pip install graphdatascience"
      ]
    },
    {
      "cell_type": "code",
      "execution_count": null,
      "metadata": {
        "id": "ojv-POzW-Hm2"
      },
      "outputs": [],
      "source": [
        "# Client import\n",
        "from graphdatascience import GraphDataScience\n",
        "\n",
        "# Connection details\n",
        "# Aura queries use an encrypted connection using the \"neo4j+s\" URI scheme\n",
        "AURA_CONNECTION_URI = \"neo4j+s://xxxxxxxx.databases.neo4j.io\"\n",
        "AURA_USERNAME = \"neo4j\"\n",
        "AURA_PASSWORD = \"\"\n",
        "\n",
        "# Configures the client with AuraDS-recommended settings\n",
        "gds = GraphDataScience(\n",
        "    AURA_CONNECTION_URI,\n",
        "    auth=(AURA_USERNAME, AURA_PASSWORD),\n",
        "    aura_ds=True\n",
        ")"
      ]
    },
    {
      "cell_type": "code",
      "execution_count": null,
      "metadata": {
        "id": "El-AY4ou-NAh"
      },
      "outputs": [],
      "source": [
        "# Imported to prettify some results\n",
        "import json\n",
        "\n",
        "# Imported for the JSON helper function\n",
        "from neo4j.time import DateTime\n",
        "\n",
        "# Helper function for serialising Neo4j DateTime in JSON dumps\n",
        "def default(o):\n",
        "    if isinstance(o, (DateTime)):\n",
        "        return o.isoformat()"
      ]
    },
    {
      "cell_type": "markdown",
      "metadata": {
        "id": "JPnoWMAR-Til"
      },
      "source": [
        "# Create constraints"
      ]
    },
    {
      "cell_type": "code",
      "execution_count": null,
      "metadata": {
        "colab": {
          "base_uri": "https://localhost:8080/"
        },
        "id": "Wa6b6pXccDCm",
        "outputId": "3f020426-b14f-4eb9-9568-839736d7b852"
      },
      "outputs": [
        {
          "data": {
            "text/plain": [
              "[]"
            ]
          },
          "execution_count": 5,
          "metadata": {},
          "output_type": "execute_result"
        }
      ],
      "source": [
        "# Make movie titles unique\n",
        "gds.run_cypher(\"\"\"\n",
        "    CREATE CONSTRAINT FOR (movie:Movie) REQUIRE movie.title IS UNIQUE\n",
        "\"\"\")\n",
        "\n",
        "# Make person names unique\n",
        "gds.run_cypher(\"\"\"\n",
        "    CREATE CONSTRAINT FOR (person:Person) REQUIRE person.name IS UNIQUE\n",
        "\"\"\")"
      ]
    },
    {
      "cell_type": "markdown",
      "metadata": {
        "id": "EcUXdmCBjI1B"
      },
      "source": [
        "# Load CSV files"
      ]
    },
    {
      "cell_type": "code",
      "execution_count": null,
      "metadata": {
        "colab": {
          "base_uri": "https://localhost:8080/"
        },
        "id": "btQy3epx-V2x",
        "outputId": "ceb6238e-b49a-42c9-ee8f-812d610e89b7"
      },
      "outputs": [
        {
          "data": {
            "text/plain": [
              "[{'count(*)': 38}]"
            ]
          },
          "execution_count": 10,
          "metadata": {},
          "output_type": "execute_result"
        }
      ],
      "source": [
        "# Use \"MERGE\" on indexed label to take advantage of the constraint \n",
        "# while creating nodes.\n",
        "# Use \"ON CREATE SET\" to set properties on created nodes.\n",
        "# Use \"RETURN count(*)\" to show the number of processed rows.\n",
        "gds.run_cypher(\"\"\"\n",
        "    LOAD CSV\n",
        "      WITH HEADERS\n",
        "      FROM 'https://data.neo4j.com/intro/movies/movies.csv' AS row\n",
        "    MERGE (m:Movie {title: row.title})\n",
        "      ON CREATE SET m.released = toInteger(row.released), m.tagline = row.tagline\n",
        "    RETURN count(*)\n",
        "\"\"\")"
      ]
    },
    {
      "cell_type": "code",
      "execution_count": null,
      "metadata": {
        "colab": {
          "base_uri": "https://localhost:8080/"
        },
        "id": "Aqx4y-z2XFik",
        "outputId": "41dbaf82-a69b-4442-adfc-63196535f107"
      },
      "outputs": [
        {
          "data": {
            "text/plain": [
              "[{'count(*)': 102}]"
            ]
          },
          "execution_count": 11,
          "metadata": {},
          "output_type": "execute_result"
        }
      ],
      "source": [
        "# Use \"MERGE\" on indexed label to take advantage of the constraint \n",
        "# while creating nodes.\n",
        "# Use \"ON CREATE SET\" to set properties on created nodes.\n",
        "# Use \"RETURN count(*)\" to show the number of processed rows.\n",
        "gds.run_cypher(\"\"\"\n",
        "    LOAD CSV\n",
        "      WITH HEADERS\n",
        "      FROM 'https://data.neo4j.com/intro/movies/people.csv' AS row\n",
        "    MERGE (p:Person {name: row.name}) \n",
        "      ON CREATE SET p.born = toInteger(row.born)\n",
        "    RETURN count(*)\n",
        "\"\"\")"
      ]
    },
    {
      "cell_type": "code",
      "execution_count": null,
      "metadata": {
        "colab": {
          "base_uri": "https://localhost:8080/"
        },
        "id": "Wp_HlYAeXmoN",
        "outputId": "394dd54e-f7ec-49d4-e0ff-4a3a1a5c4f37"
      },
      "outputs": [
        {
          "data": {
            "text/plain": [
              "[{'count(*)': 172}]"
            ]
          },
          "execution_count": 12,
          "metadata": {},
          "output_type": "execute_result"
        }
      ],
      "source": [
        "# Use \"USING PERIODIC COMMIT\" to control the usage of memory.\n",
        "# Use FIELDTERMINATOR to explicitly set the terminator character.\n",
        "# Use \"MATCH\" and \"MERGE\" to create relationships between matched nodes.\n",
        "# Use \"ON CREATE SET\" to set properties on created relationships.\n",
        "# Use \"RETURN count(*)\" to show the number of processed rows.\n",
        "gds.run_cypher(\"\"\"\n",
        "    USING PERIODIC COMMIT 50\n",
        "    LOAD CSV\n",
        "      WITH HEADERS\n",
        "      FROM 'https://data.neo4j.com/intro/movies/actors.csv' AS row\n",
        "      FIELDTERMINATOR ','\n",
        "    MATCH (p:Person {name: row.person})\n",
        "    MATCH (m:Movie {title: row.movie})\n",
        "    MERGE (p)-[actedIn:ACTED_IN]->(m)\n",
        "      ON CREATE SET actedIn.roles = split(row.roles, ';')\n",
        "    RETURN count(*)\n",
        "\"\"\")"
      ]
    },
    {
      "cell_type": "code",
      "execution_count": null,
      "metadata": {
        "colab": {
          "base_uri": "https://localhost:8080/"
        },
        "id": "Sr_CNhl1p_9S",
        "outputId": "49cce17e-5d58-4267-8247-a307e7e928f8"
      },
      "outputs": [
        {
          "data": {
            "text/plain": [
              "[{'movie.released': 1975, 'movies': [\"Something's Gotta Give\"]},\n",
              " {'movie.released': 1995, 'movies': ['Johnny Mnemonic']},\n",
              " {'movie.released': 1997, 'movies': [\"The Devil's Advocate\"]},\n",
              " {'movie.released': 1999, 'movies': ['The Matrix']},\n",
              " {'movie.released': 2000, 'movies': ['The Replacements']},\n",
              " {'movie.released': 2003,\n",
              "  'movies': ['The Matrix Reloaded', 'The Matrix Revolutions']}]"
            ]
          },
          "execution_count": 16,
          "metadata": {},
          "output_type": "execute_result"
        }
      ],
      "source": [
        "gds.run_cypher(\"\"\"\n",
        "    MATCH (person:Person {name: \"Keanu Reeves\"})-[:ACTED_IN]->(movie)\n",
        "    RETURN movie.released, COLLECT(movie.title) AS movies\n",
        "    ORDER BY movie.released\n",
        "\"\"\")"
      ]
    },
    {
      "cell_type": "markdown",
      "metadata": {
        "id": "6Cj2k529jEND"
      },
      "source": [
        "# Cleanup"
      ]
    },
    {
      "cell_type": "code",
      "execution_count": null,
      "metadata": {
        "colab": {
          "base_uri": "https://localhost:8080/"
        },
        "id": "JzUq5LuXABne",
        "outputId": "c00c6c44-7c39-4575-c7c7-0d800570176f"
      },
      "outputs": [
        {
          "data": {
            "text/plain": [
              "[]"
            ]
          },
          "execution_count": 9,
          "metadata": {},
          "output_type": "execute_result"
        }
      ],
      "source": [
        "# Delete data\n",
        "gds.run_cypher(\"\"\"\n",
        "    MATCH (n)\n",
        "    DETACH DELETE n\n",
        "\"\"\")"
      ]
    }
  ],
  "metadata": {
    "colab": {
      "provenance": []
    },
    "kernelspec": {
      "display_name": "Python 3",
      "name": "python3"
    },
    "language_info": {
      "name": "python"
    }
  },
  "nbformat": 4,
  "nbformat_minor": 0
}

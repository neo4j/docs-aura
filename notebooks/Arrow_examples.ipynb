{
 "cells": [
  {
   "attachments": {},
   "cell_type": "markdown",
   "id": "23320879",
   "metadata": {},
   "source": [
    "# Loading and streaming back data with Apache Arrow"
   ]
  },
  {
   "attachments": {},
   "cell_type": "markdown",
   "id": "9f56b932",
   "metadata": {},
   "source": [
    "## Setup"
   ]
  },
  {
   "attachments": {},
   "cell_type": "markdown",
   "id": "375d13ed",
   "metadata": {},
   "source": [
    "For this example, the `ogb` extra is needed in order to load OGBN datasets."
   ]
  },
  {
   "cell_type": "code",
   "execution_count": null,
   "id": "10af7de1",
   "metadata": {},
   "outputs": [],
   "source": [
    "%pip install 'graphdatascience>=1.7'\n",
    "\n",
    "from graphdatascience import GraphDataScience\n",
    "\n",
    "# Replace with the actual connection URI and credentials\n",
    "AURA_CONNECTION_URI = \"neo4j+s://xxxxxxxx.databases.neo4j.io\"\n",
    "AURA_USERNAME = \"neo4j\"\n",
    "AURA_PASSWORD = \"\"\n",
    "\n",
    "# When initialized, the client tries to use Arrow if it is available on the server.\n",
    "# This behaviour is controlled by the `arrow` parameter, which is set to `True` by default.\n",
    "gds = GraphDataScience(AURA_CONNECTION_URI, auth=(AURA_USERNAME, AURA_PASSWORD), aura_ds=True)\n",
    "\n",
    "# Necessary if Arrow is enabled (as is by default on Aura)\n",
    "gds.set_database(\"neo4j\")"
   ]
  },
  {
   "cell_type": "code",
   "execution_count": null,
   "id": "f37948ef",
   "metadata": {},
   "outputs": [],
   "source": [
    "gds.debug.arrow()"
   ]
  },
  {
   "attachments": {},
   "cell_type": "markdown",
   "id": "2b091a26",
   "metadata": {},
   "source": [
    "## Loading data"
   ]
  },
  {
   "cell_type": "code",
   "execution_count": null,
   "id": "23fdc7e9",
   "metadata": {},
   "outputs": [],
   "source": [
    "%pip install pandas\n",
    "\n",
    "import pandas as pd"
   ]
  },
  {
   "cell_type": "code",
   "execution_count": null,
   "id": "525fa767",
   "metadata": {},
   "outputs": [],
   "source": [
    "nodes = pd.DataFrame(\n",
    "    {\n",
    "        \"nodeId\": [0, 1, 2],\n",
    "        \"labels\":  [\"Article\", \"Article\", \"Article\"],\n",
    "        \"pages\": [3, 7, 12],\n",
    "    }\n",
    ")\n",
    "\n",
    "relationships = pd.DataFrame(\n",
    "    {\n",
    "        \"sourceNodeId\": [0, 1],\n",
    "        \"targetNodeId\": [1, 2],\n",
    "        \"relationshipType\": [\"CITES\", \"CITES\"],\n",
    "        \"times\": [2, 1]\n",
    "    }\n",
    ")\n",
    "\n",
    "article_graph = gds.graph.construct(\n",
    "    \"article-graph\",\n",
    "    nodes,\n",
    "    relationships\n",
    ")"
   ]
  },
  {
   "cell_type": "code",
   "execution_count": null,
   "id": "720c7a0d",
   "metadata": {},
   "outputs": [],
   "source": [
    "gds.graph.list()"
   ]
  },
  {
   "attachments": {},
   "cell_type": "markdown",
   "id": "dd26f5ce",
   "metadata": {},
   "source": [
    "## Streaming node and relationship properties"
   ]
  },
  {
   "cell_type": "code",
   "execution_count": null,
   "id": "4a3d5b9b",
   "metadata": {},
   "outputs": [],
   "source": [
    "# Read all the values for the node property `pages`\n",
    "gds.graph.nodeProperties.stream(article_graph, \"pages\")"
   ]
  },
  {
   "cell_type": "code",
   "execution_count": null,
   "id": "0c69d522",
   "metadata": {},
   "outputs": [],
   "source": [
    "# Read all the values for the relationship property `times`\n",
    "gds.graph.relationshipProperties.stream(article_graph, \"times\")"
   ]
  },
  {
   "attachments": {},
   "cell_type": "markdown",
   "id": "918c1850",
   "metadata": {},
   "source": [
    "## Performance"
   ]
  },
  {
   "cell_type": "code",
   "execution_count": null,
   "id": "3fffcc47",
   "metadata": {},
   "outputs": [],
   "source": [
    "%pip install 'graphdatascience[ogb]>=1.7'\n",
    "\n",
    "# Load and immediately drop the dataset to download and cache the data\n",
    "ogbn_arxiv = gds.graph.ogbn.load(\"ogbn-arxiv\")\n",
    "ogbn_arxiv.drop()"
   ]
  },
  {
   "cell_type": "code",
   "execution_count": null,
   "id": "53a3eacb",
   "metadata": {},
   "outputs": [],
   "source": [
    "%%timeit -n 1 -r 1\n",
    "\n",
    "# This call uses the cached dataset, so only the actual loading is timed\n",
    "ogbn_arxiv = gds.graph.ogbn.load(\"ogbn-arxiv\")"
   ]
  },
  {
   "attachments": {},
   "cell_type": "markdown",
   "id": "68f58bc8",
   "metadata": {},
   "source": [
    "## Cleanup"
   ]
  },
  {
   "cell_type": "code",
   "execution_count": 11,
   "id": "cffa287a",
   "metadata": {},
   "outputs": [],
   "source": [
    "article_graph.drop()\n",
    "ogbn_arxiv.drop()\n",
    "\n",
    "gds.close()"
   ]
  }
 ],
 "metadata": {
  "kernelspec": {
   "display_name": "Python 3 (ipykernel)",
   "language": "python",
   "name": "python3"
  },
  "language_info": {
   "codemirror_mode": {
    "name": "ipython",
    "version": 3
   },
   "file_extension": ".py",
   "mimetype": "text/x-python",
   "name": "python",
   "nbconvert_exporter": "python",
   "pygments_lexer": "ipython3",
   "version": "3.10.12"
  }
 },
 "nbformat": 4,
 "nbformat_minor": 5
}
